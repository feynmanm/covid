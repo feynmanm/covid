{
 "cells": [
  {
   "cell_type": "markdown",
   "id": "29404822-f801-4cbe-9b95-1256199c8534",
   "metadata": {},
   "source": [
    "# Predict Density of Covid 19 Cases\n",
    "Main goal is to predict case density, which is the number of cases per unit of population of a given county. We initially consider all cases from the *Covid Act Now* data, March 2020 to present, but we might look at smaller blocks of time.  \n",
    "Initial features...  \n",
    "- `density` (population density)\n",
    "- `area`\n",
    "- `neighbor_density` (mean population density of neighboring counties)\n",
    "- `vaccination_rate` (maximum vaccination rate ever reported for the county)\n",
    "- `case_peak_ratio`  \n",
    "As described in the exploration notebook, `case-peak-ratio` is the ratio of peak monthly case counts before 2020-09 to after 2020-09, inspired by the (author's) notion that a higher ratio indicates a county's willingness to adopt lifestyle changes to reduce disease transmission."
   ]
  },
  {
   "cell_type": "code",
   "execution_count": 1,
   "id": "9485b22c-e3aa-4cb6-b701-ba334b456d3d",
   "metadata": {},
   "outputs": [],
   "source": [
    "import pandas as pd\n",
    "import numpy as np\n",
    "import matplotlib.pyplot as plt\n",
    "import seaborn as sns\n",
    "\n",
    "from sklearn.decomposition import PCA\n",
    "from sklearn.model_selection import train_test_split, cross_val_score\n",
    "\n",
    "from sklearn.metrics import mean_absolute_error\n",
    "from sklearn.linear_model import LinearRegression\n",
    "from sklearn.tree import DecisionTreeRegressor\n",
    "from sklearn.neighbors import KNeighborsRegressor\n",
    "from sklearn.ensemble import RandomForestRegressor\n",
    "from sklearn.svm import SVR\n",
    "from xgboost import XGBRegressor\n",
    "\n",
    "from hyperopt import hp, fmin, tpe, STATUS_OK, Trials\n",
    "\n",
    "%matplotlib inline"
   ]
  },
  {
   "cell_type": "code",
   "execution_count": 2,
   "id": "5b72d0b1-cbcc-49a8-ae50-81eb0edc5a2c",
   "metadata": {},
   "outputs": [],
   "source": [
    "# Data was largely processed in the exploration notebook\n",
    "# Note: Need to actually derive a couple of those values\n",
    "# Also note: the index of the counties geodataframe is FIPS, which is an gov't issues unique identifer for each US county\n",
    "counties = pd.read_pickle('../../pickles/CANpickles/cancounties.pkl')\n",
    "features = ['density', 'area', 'neighbor_density', 'vaccination_rate', 'case_peak_ratio', 'case_total_ratio']\n",
    "label='case_density'"
   ]
  },
  {
   "cell_type": "markdown",
   "id": "3d3590d1-5a55-4a89-a9aa-d3650c7a966f",
   "metadata": {
    "tags": []
   },
   "source": [
    "## Add Initial Derived Columns"
   ]
  },
  {
   "cell_type": "code",
   "execution_count": 3,
   "id": "a504ecc2-86f4-4d1b-bcc3-a703192a86bd",
   "metadata": {},
   "outputs": [],
   "source": [
    "counties['case_density'] = counties['cases'] / counties['pop']"
   ]
  },
  {
   "cell_type": "code",
   "execution_count": 4,
   "id": "5c7eb8b0-449e-4b11-9429-dd8e03fcd6d1",
   "metadata": {},
   "outputs": [
    {
     "data": {
      "text/plain": [
       "102"
      ]
     },
     "execution_count": 4,
     "metadata": {},
     "output_type": "execute_result"
    }
   ],
   "source": [
    "# Empty case_densities?\n",
    "counties['case_density'].isna().sum()\n",
    "\n",
    "# This is consistent with the fact that we do not have case counts on 102 counties from exploration notebook"
   ]
  },
  {
   "cell_type": "code",
   "execution_count": 5,
   "id": "6db866b0-8640-4575-922c-1451f4004a1f",
   "metadata": {},
   "outputs": [],
   "source": [
    "def neighbor_density_mean(neighbors):\n",
    "    if len(neighbors) == 0:\n",
    "        return 0.0\n",
    "    else:\n",
    "        return sum([counties.loc[fips, 'density'] for fips in neighbors])/len(neighbors)\n",
    "\n",
    "counties['neighbor_density'] = counties['neighbors'].map(neighbor_density_mean)"
   ]
  },
  {
   "cell_type": "code",
   "execution_count": 6,
   "id": "941f81a2-66a6-4eb2-bce4-f17b7fd2f388",
   "metadata": {},
   "outputs": [
    {
     "data": {
      "text/html": [
       "<div>\n",
       "<style scoped>\n",
       "    .dataframe tbody tr th:only-of-type {\n",
       "        vertical-align: middle;\n",
       "    }\n",
       "\n",
       "    .dataframe tbody tr th {\n",
       "        vertical-align: top;\n",
       "    }\n",
       "\n",
       "    .dataframe thead th {\n",
       "        text-align: right;\n",
       "    }\n",
       "</style>\n",
       "<table border=\"1\" class=\"dataframe\">\n",
       "  <thead>\n",
       "    <tr style=\"text-align: right;\">\n",
       "      <th></th>\n",
       "      <th>state_name</th>\n",
       "      <th>county_name</th>\n",
       "      <th>area</th>\n",
       "      <th>geometry</th>\n",
       "      <th>pop</th>\n",
       "      <th>density</th>\n",
       "      <th>neighbors</th>\n",
       "      <th>cases</th>\n",
       "      <th>deaths</th>\n",
       "      <th>vaccination_rate</th>\n",
       "      <th>infection_rate</th>\n",
       "      <th>case_peak_ratio</th>\n",
       "      <th>cases_w1_w2</th>\n",
       "      <th>cases_w3</th>\n",
       "      <th>cases_w4</th>\n",
       "      <th>case_total_ratio</th>\n",
       "      <th>case_density</th>\n",
       "      <th>neighbor_density</th>\n",
       "    </tr>\n",
       "    <tr>\n",
       "      <th>FIPS</th>\n",
       "      <th></th>\n",
       "      <th></th>\n",
       "      <th></th>\n",
       "      <th></th>\n",
       "      <th></th>\n",
       "      <th></th>\n",
       "      <th></th>\n",
       "      <th></th>\n",
       "      <th></th>\n",
       "      <th></th>\n",
       "      <th></th>\n",
       "      <th></th>\n",
       "      <th></th>\n",
       "      <th></th>\n",
       "      <th></th>\n",
       "      <th></th>\n",
       "      <th></th>\n",
       "      <th></th>\n",
       "    </tr>\n",
       "  </thead>\n",
       "  <tbody>\n",
       "    <tr>\n",
       "      <th>53055</th>\n",
       "      <td>Washington</td>\n",
       "      <td>San Juan</td>\n",
       "      <td>450432205</td>\n",
       "      <td>MULTIPOLYGON (((-122.76657 48.70780, -122.7656...</td>\n",
       "      <td>17582</td>\n",
       "      <td>39.033621</td>\n",
       "      <td>[]</td>\n",
       "      <td>256.0</td>\n",
       "      <td>0.0</td>\n",
       "      <td>0.718</td>\n",
       "      <td>NaN</td>\n",
       "      <td>0.206349</td>\n",
       "      <td>34.0</td>\n",
       "      <td>174.0</td>\n",
       "      <td>74.0</td>\n",
       "      <td>0.195402</td>\n",
       "      <td>0.014560</td>\n",
       "      <td>0.0</td>\n",
       "    </tr>\n",
       "    <tr>\n",
       "      <th>25007</th>\n",
       "      <td>Massachusetts</td>\n",
       "      <td>Dukes</td>\n",
       "      <td>267292993</td>\n",
       "      <td>MULTIPOLYGON (((-70.80710 41.45858, -70.80258 ...</td>\n",
       "      <td>17332</td>\n",
       "      <td>64.842702</td>\n",
       "      <td>[]</td>\n",
       "      <td>1688.0</td>\n",
       "      <td>2.0</td>\n",
       "      <td>NaN</td>\n",
       "      <td>0.79</td>\n",
       "      <td>0.073955</td>\n",
       "      <td>77.0</td>\n",
       "      <td>1354.0</td>\n",
       "      <td>284.0</td>\n",
       "      <td>0.056869</td>\n",
       "      <td>0.097392</td>\n",
       "      <td>0.0</td>\n",
       "    </tr>\n",
       "    <tr>\n",
       "      <th>25019</th>\n",
       "      <td>Massachusetts</td>\n",
       "      <td>Nantucket</td>\n",
       "      <td>119637319</td>\n",
       "      <td>MULTIPOLYGON (((-70.23405 41.28565, -70.22122 ...</td>\n",
       "      <td>11399</td>\n",
       "      <td>95.279634</td>\n",
       "      <td>[]</td>\n",
       "      <td>1851.0</td>\n",
       "      <td>3.0</td>\n",
       "      <td>NaN</td>\n",
       "      <td>0.42</td>\n",
       "      <td>0.156250</td>\n",
       "      <td>48.0</td>\n",
       "      <td>1449.0</td>\n",
       "      <td>333.0</td>\n",
       "      <td>0.033126</td>\n",
       "      <td>0.162383</td>\n",
       "      <td>0.0</td>\n",
       "    </tr>\n",
       "  </tbody>\n",
       "</table>\n",
       "</div>"
      ],
      "text/plain": [
       "          state_name county_name       area  \\\n",
       "FIPS                                          \n",
       "53055     Washington    San Juan  450432205   \n",
       "25007  Massachusetts       Dukes  267292993   \n",
       "25019  Massachusetts   Nantucket  119637319   \n",
       "\n",
       "                                                geometry    pop    density  \\\n",
       "FIPS                                                                         \n",
       "53055  MULTIPOLYGON (((-122.76657 48.70780, -122.7656...  17582  39.033621   \n",
       "25007  MULTIPOLYGON (((-70.80710 41.45858, -70.80258 ...  17332  64.842702   \n",
       "25019  MULTIPOLYGON (((-70.23405 41.28565, -70.22122 ...  11399  95.279634   \n",
       "\n",
       "      neighbors   cases  deaths  vaccination_rate  infection_rate  \\\n",
       "FIPS                                                                \n",
       "53055        []   256.0     0.0             0.718             NaN   \n",
       "25007        []  1688.0     2.0               NaN            0.79   \n",
       "25019        []  1851.0     3.0               NaN            0.42   \n",
       "\n",
       "       case_peak_ratio  cases_w1_w2  cases_w3  cases_w4  case_total_ratio  \\\n",
       "FIPS                                                                        \n",
       "53055         0.206349         34.0     174.0      74.0          0.195402   \n",
       "25007         0.073955         77.0    1354.0     284.0          0.056869   \n",
       "25019         0.156250         48.0    1449.0     333.0          0.033126   \n",
       "\n",
       "       case_density  neighbor_density  \n",
       "FIPS                                   \n",
       "53055      0.014560               0.0  \n",
       "25007      0.097392               0.0  \n",
       "25019      0.162383               0.0  "
      ]
     },
     "execution_count": 6,
     "metadata": {},
     "output_type": "execute_result"
    }
   ],
   "source": [
    "# Sanity check #1, we know there are 3 island counties that share no border with another county and, thus, have a neighbor_density of zero\n",
    "counties[counties['neighbor_density']==0.0]\n",
    "\n",
    "# Checks out, good."
   ]
  },
  {
   "cell_type": "code",
   "execution_count": 7,
   "id": "1f4ec432-8e15-4477-9b3e-f675ba4aa526",
   "metadata": {},
   "outputs": [
    {
     "data": {
      "text/html": [
       "<div>\n",
       "<style scoped>\n",
       "    .dataframe tbody tr th:only-of-type {\n",
       "        vertical-align: middle;\n",
       "    }\n",
       "\n",
       "    .dataframe tbody tr th {\n",
       "        vertical-align: top;\n",
       "    }\n",
       "\n",
       "    .dataframe thead th {\n",
       "        text-align: right;\n",
       "    }\n",
       "</style>\n",
       "<table border=\"1\" class=\"dataframe\">\n",
       "  <thead>\n",
       "    <tr style=\"text-align: right;\">\n",
       "      <th></th>\n",
       "      <th>state_name</th>\n",
       "      <th>county_name</th>\n",
       "      <th>area</th>\n",
       "      <th>geometry</th>\n",
       "      <th>pop</th>\n",
       "      <th>density</th>\n",
       "      <th>neighbors</th>\n",
       "      <th>cases</th>\n",
       "      <th>deaths</th>\n",
       "      <th>vaccination_rate</th>\n",
       "      <th>infection_rate</th>\n",
       "      <th>case_peak_ratio</th>\n",
       "      <th>cases_w1_w2</th>\n",
       "      <th>cases_w3</th>\n",
       "      <th>cases_w4</th>\n",
       "      <th>case_total_ratio</th>\n",
       "      <th>case_density</th>\n",
       "      <th>neighbor_density</th>\n",
       "    </tr>\n",
       "    <tr>\n",
       "      <th>FIPS</th>\n",
       "      <th></th>\n",
       "      <th></th>\n",
       "      <th></th>\n",
       "      <th></th>\n",
       "      <th></th>\n",
       "      <th></th>\n",
       "      <th></th>\n",
       "      <th></th>\n",
       "      <th></th>\n",
       "      <th></th>\n",
       "      <th></th>\n",
       "      <th></th>\n",
       "      <th></th>\n",
       "      <th></th>\n",
       "      <th></th>\n",
       "      <th></th>\n",
       "      <th></th>\n",
       "      <th></th>\n",
       "    </tr>\n",
       "  </thead>\n",
       "  <tbody>\n",
       "    <tr>\n",
       "      <th>51003</th>\n",
       "      <td>Virginia</td>\n",
       "      <td>Albemarle</td>\n",
       "      <td>1866014147</td>\n",
       "      <td>POLYGON ((-78.83701 38.04826, -78.82993 38.054...</td>\n",
       "      <td>109330</td>\n",
       "      <td>58.590124</td>\n",
       "      <td>[51165, 51125, 51029, 51015, 51137, 51109, 510...</td>\n",
       "      <td>6533.0</td>\n",
       "      <td>85.0</td>\n",
       "      <td>0.648</td>\n",
       "      <td>1.26</td>\n",
       "      <td>0.267921</td>\n",
       "      <td>1005.0</td>\n",
       "      <td>4770.0</td>\n",
       "      <td>746.0</td>\n",
       "      <td>0.210692</td>\n",
       "      <td>0.059755</td>\n",
       "      <td>225.484953</td>\n",
       "    </tr>\n",
       "  </tbody>\n",
       "</table>\n",
       "</div>"
      ],
      "text/plain": [
       "      state_name county_name        area  \\\n",
       "FIPS                                       \n",
       "51003   Virginia   Albemarle  1866014147   \n",
       "\n",
       "                                                geometry     pop    density  \\\n",
       "FIPS                                                                          \n",
       "51003  POLYGON ((-78.83701 38.04826, -78.82993 38.054...  109330  58.590124   \n",
       "\n",
       "                                               neighbors   cases  deaths  \\\n",
       "FIPS                                                                       \n",
       "51003  [51165, 51125, 51029, 51015, 51137, 51109, 510...  6533.0    85.0   \n",
       "\n",
       "       vaccination_rate  infection_rate  case_peak_ratio  cases_w1_w2  \\\n",
       "FIPS                                                                    \n",
       "51003             0.648            1.26         0.267921       1005.0   \n",
       "\n",
       "       cases_w3  cases_w4  case_total_ratio  case_density  neighbor_density  \n",
       "FIPS                                                                         \n",
       "51003    4770.0     746.0          0.210692      0.059755        225.484953  "
      ]
     },
     "execution_count": 7,
     "metadata": {},
     "output_type": "execute_result"
    }
   ],
   "source": [
    "# Sanity check #2, pull up Albemarle County, VA, observe its neighbor_density\n",
    "counties[counties['county_name']=='Albemarle']"
   ]
  },
  {
   "cell_type": "code",
   "execution_count": 8,
   "id": "55a4115d-3b01-4792-a740-10c18c5860ca",
   "metadata": {},
   "outputs": [
    {
     "data": {
      "text/plain": [
       "<AxesSubplot:>"
      ]
     },
     "execution_count": 8,
     "metadata": {},
     "output_type": "execute_result"
    },
    {
     "data": {
      "image/png": "[encoded data removed]",
      "text/plain": [
       "<Figure size 1440x1440 with 1 Axes>"
      ]
     },
     "metadata": {
      "needs_background": "light"
     },
     "output_type": "display_data"
    }
   ],
   "source": [
    "# ...then pull up Albemarle County's neighbors (yellow shapes) and their population densities\n",
    "# Then manually calculate Albemarle's avg neighbor density\n",
    "albemarle_surround = counties[counties.index.isin(counties.loc[counties['county_name']=='Albemarle', 'neighbors'][0].tolist())]\n",
    "base = albemarle_surround.boundary.plot(figsize=(20,20))\n",
    "albemarle_surround.apply(lambda x: base.annotate(text=x['density'], xy=x['geometry'].centroid.coords[0], ha='center'), axis=1)\n",
    "albemarle_surround.plot(color='yellow', ax=base)\n",
    "\n",
    "# Pull out the calculator --> 225.48, checks out\n",
    "# Note Virginia's prolific number of independent cities\n",
    "# The small yellow shape in the center of Albemarle County (which is the white county) is the city of Charlottesville\n",
    "# The small white areas in the neighboring western counties are the cities of Waynesboro, Stauntan, and Harrisonburg\n",
    "# Neighboring county density does not include the neighboring counties' independent city populations, which is a small problem\n",
    "# POSSIBLE FUTURE REFINDEMENT, FIX THIS"
   ]
  },
  {
   "cell_type": "markdown",
   "id": "ef68a304-9600-42cd-af17-269e2ce8b1d1",
   "metadata": {
    "tags": []
   },
   "source": [
    "## Process Initial Data"
   ]
  },
  {
   "cell_type": "code",
   "execution_count": 9,
   "id": "5e63dd59-e786-44f3-be60-34aab19676da",
   "metadata": {},
   "outputs": [
    {
     "name": "stdout",
     "output_type": "stream",
     "text": [
      "<class 'geopandas.geodataframe.GeoDataFrame'>\n",
      "Index: 3108 entries, 21141 to 35037\n",
      "Data columns (total 18 columns):\n",
      " #   Column            Non-Null Count  Dtype   \n",
      "---  ------            --------------  -----   \n",
      " 0   state_name        3108 non-null   object  \n",
      " 1   county_name       3108 non-null   object  \n",
      " 2   area              3108 non-null   int64   \n",
      " 3   geometry          3108 non-null   geometry\n",
      " 4   pop               3108 non-null   int64   \n",
      " 5   density           3108 non-null   float64 \n",
      " 6   neighbors         3108 non-null   object  \n",
      " 7   cases             3006 non-null   float64 \n",
      " 8   deaths            3006 non-null   float64 \n",
      " 9   vaccination_rate  3001 non-null   float64 \n",
      " 10  infection_rate    2835 non-null   float64 \n",
      " 11  case_peak_ratio   3006 non-null   float64 \n",
      " 12  cases_w1_w2       3006 non-null   float64 \n",
      " 13  cases_w3          3006 non-null   float64 \n",
      " 14  cases_w4          3006 non-null   float64 \n",
      " 15  case_total_ratio  3006 non-null   float64 \n",
      " 16  case_density      3006 non-null   float64 \n",
      " 17  neighbor_density  3108 non-null   float64 \n",
      "dtypes: float64(12), geometry(1), int64(2), object(3)\n",
      "memory usage: 525.9+ KB\n"
     ]
    }
   ],
   "source": [
    "counties.info()"
   ]
  },
  {
   "cell_type": "code",
   "execution_count": 10,
   "id": "8c1d4b6a-4abb-49eb-85ce-f0053e3915ac",
   "metadata": {},
   "outputs": [
    {
     "data": {
      "text/plain": [
       "(3001, 18)"
      ]
     },
     "execution_count": 10,
     "metadata": {},
     "output_type": "execute_result"
    }
   ],
   "source": [
    "# Drop 5 counties with no vaccination rate\n",
    "counties = counties.dropna(subset=['vaccination_rate'], axis=0)\n",
    "\n",
    "# Drop 102 counties with no case counts\n",
    "counties = counties[~(counties['cases'].isna())]\n",
    "\n",
    "counties.shape\n",
    "\n",
    "# Yep, 3001 rows, checks out (assuming the missing cases and missing vaccination rate counties are all different)"
   ]
  },
  {
   "cell_type": "code",
   "execution_count": 11,
   "id": "0edc6229-c888-4949-ac25-67f61f403ca8",
   "metadata": {},
   "outputs": [],
   "source": [
    "counties_features = counties[features]"
   ]
  },
  {
   "cell_type": "code",
   "execution_count": 12,
   "id": "416c9120-3dab-4a80-9c45-42c47074e763",
   "metadata": {},
   "outputs": [
    {
     "data": {
      "text/html": [
       "<div>\n",
       "<style scoped>\n",
       "    .dataframe tbody tr th:only-of-type {\n",
       "        vertical-align: middle;\n",
       "    }\n",
       "\n",
       "    .dataframe tbody tr th {\n",
       "        vertical-align: top;\n",
       "    }\n",
       "\n",
       "    .dataframe thead th {\n",
       "        text-align: right;\n",
       "    }\n",
       "</style>\n",
       "<table border=\"1\" class=\"dataframe\">\n",
       "  <thead>\n",
       "    <tr style=\"text-align: right;\">\n",
       "      <th></th>\n",
       "      <th>density</th>\n",
       "      <th>area</th>\n",
       "      <th>neighbor_density</th>\n",
       "      <th>vaccination_rate</th>\n",
       "      <th>case_peak_ratio</th>\n",
       "      <th>case_total_ratio</th>\n",
       "    </tr>\n",
       "  </thead>\n",
       "  <tbody>\n",
       "    <tr>\n",
       "      <th>count</th>\n",
       "      <td>3001.000000</td>\n",
       "      <td>3.001000e+03</td>\n",
       "      <td>3001.000000</td>\n",
       "      <td>3001.000000</td>\n",
       "      <td>3001.000000</td>\n",
       "      <td>3001.000000</td>\n",
       "    </tr>\n",
       "    <tr>\n",
       "      <th>mean</th>\n",
       "      <td>108.021363</td>\n",
       "      <td>2.471633e+09</td>\n",
       "      <td>102.313645</td>\n",
       "      <td>0.410864</td>\n",
       "      <td>0.294494</td>\n",
       "      <td>0.180171</td>\n",
       "    </tr>\n",
       "    <tr>\n",
       "      <th>std</th>\n",
       "      <td>707.431294</td>\n",
       "      <td>3.415341e+09</td>\n",
       "      <td>557.873151</td>\n",
       "      <td>0.106154</td>\n",
       "      <td>0.228351</td>\n",
       "      <td>0.158723</td>\n",
       "    </tr>\n",
       "    <tr>\n",
       "      <th>min</th>\n",
       "      <td>0.103862</td>\n",
       "      <td>5.300262e+06</td>\n",
       "      <td>0.000000</td>\n",
       "      <td>0.023000</td>\n",
       "      <td>0.007026</td>\n",
       "      <td>0.000000</td>\n",
       "    </tr>\n",
       "    <tr>\n",
       "      <th>25%</th>\n",
       "      <td>7.380707</td>\n",
       "      <td>1.106596e+09</td>\n",
       "      <td>12.137691</td>\n",
       "      <td>0.336000</td>\n",
       "      <td>0.142857</td>\n",
       "      <td>0.070993</td>\n",
       "    </tr>\n",
       "    <tr>\n",
       "      <th>50%</th>\n",
       "      <td>18.028105</td>\n",
       "      <td>1.584393e+09</td>\n",
       "      <td>28.373709</td>\n",
       "      <td>0.397000</td>\n",
       "      <td>0.238889</td>\n",
       "      <td>0.132276</td>\n",
       "    </tr>\n",
       "    <tr>\n",
       "      <th>75%</th>\n",
       "      <td>48.059492</td>\n",
       "      <td>2.369725e+09</td>\n",
       "      <td>67.449127</td>\n",
       "      <td>0.476000</td>\n",
       "      <td>0.380590</td>\n",
       "      <td>0.235339</td>\n",
       "    </tr>\n",
       "    <tr>\n",
       "      <th>max</th>\n",
       "      <td>27755.982814</td>\n",
       "      <td>5.197591e+10</td>\n",
       "      <td>17879.954516</td>\n",
       "      <td>0.834000</td>\n",
       "      <td>2.820789</td>\n",
       "      <td>2.050691</td>\n",
       "    </tr>\n",
       "  </tbody>\n",
       "</table>\n",
       "</div>"
      ],
      "text/plain": [
       "            density          area  neighbor_density  vaccination_rate  \\\n",
       "count   3001.000000  3.001000e+03       3001.000000       3001.000000   \n",
       "mean     108.021363  2.471633e+09        102.313645          0.410864   \n",
       "std      707.431294  3.415341e+09        557.873151          0.106154   \n",
       "min        0.103862  5.300262e+06          0.000000          0.023000   \n",
       "25%        7.380707  1.106596e+09         12.137691          0.336000   \n",
       "50%       18.028105  1.584393e+09         28.373709          0.397000   \n",
       "75%       48.059492  2.369725e+09         67.449127          0.476000   \n",
       "max    27755.982814  5.197591e+10      17879.954516          0.834000   \n",
       "\n",
       "       case_peak_ratio  case_total_ratio  \n",
       "count      3001.000000       3001.000000  \n",
       "mean          0.294494          0.180171  \n",
       "std           0.228351          0.158723  \n",
       "min           0.007026          0.000000  \n",
       "25%           0.142857          0.070993  \n",
       "50%           0.238889          0.132276  \n",
       "75%           0.380590          0.235339  \n",
       "max           2.820789          2.050691  "
      ]
     },
     "execution_count": 12,
     "metadata": {},
     "output_type": "execute_result"
    }
   ],
   "source": [
    "counties_features.describe()"
   ]
  },
  {
   "cell_type": "code",
   "execution_count": 13,
   "id": "eb809c21-3d2a-4e56-bea0-15e3535c4f5a",
   "metadata": {},
   "outputs": [
    {
     "data": {
      "image/png": "[encoded data removed]",
      "text/plain": [
       "<Figure size 432x288 with 1 Axes>"
      ]
     },
     "metadata": {
      "needs_background": "light"
     },
     "output_type": "display_data"
    },
    {
     "data": {
      "image/png": "[encoded data removed]",
      "text/plain": [
       "<Figure size 432x288 with 1 Axes>"
      ]
     },
     "metadata": {
      "needs_background": "light"
     },
     "output_type": "display_data"
    },
    {
     "data": {
      "image/png": "[encoded data removed]",
      "text/plain": [
       "<Figure size 432x288 with 1 Axes>"
      ]
     },
     "metadata": {
      "needs_background": "light"
     },
     "output_type": "display_data"
    },
    {
     "data": {
      "image/png": "[encoded data removed]",
      "text/plain": [
       "<Figure size 432x288 with 1 Axes>"
      ]
     },
     "metadata": {
      "needs_background": "light"
     },
     "output_type": "display_data"
    },
    {
     "data": {
      "image/png": "[encoded data removed]",
      "text/plain": [
       "<Figure size 432x288 with 1 Axes>"
      ]
     },
     "metadata": {
      "needs_background": "light"
     },
     "output_type": "display_data"
    },
    {
     "data": {
      "image/png": "[encoded data removed]",
      "text/plain": [
       "<Figure size 432x288 with 1 Axes>"
      ]
     },
     "metadata": {
      "needs_background": "light"
     },
     "output_type": "display_data"
    }
   ],
   "source": [
    "# Inspect feature histograms\n",
    "for col in counties_features.columns:\n",
    "    plt.hist(counties_features[col])\n",
    "    plt.title(col)\n",
    "    plt.show()\n",
    "    \n",
    "# 5 of the 6 features are significantly right skewed."
   ]
  },
  {
   "cell_type": "code",
   "execution_count": 14,
   "id": "54216d83-0c09-4a5e-9255-7f5613889971",
   "metadata": {},
   "outputs": [
    {
     "data": {
      "image/png": "[encoded data removed]",
      "text/plain": [
       "<Figure size 432x288 with 1 Axes>"
      ]
     },
     "metadata": {
      "needs_background": "light"
     },
     "output_type": "display_data"
    },
    {
     "data": {
      "image/png": "[encoded data removed]",
      "text/plain": [
       "<Figure size 432x288 with 1 Axes>"
      ]
     },
     "metadata": {
      "needs_background": "light"
     },
     "output_type": "display_data"
    },
    {
     "data": {
      "image/png": "[encoded data removed]",
      "text/plain": [
       "<Figure size 432x288 with 1 Axes>"
      ]
     },
     "metadata": {
      "needs_background": "light"
     },
     "output_type": "display_data"
    },
    {
     "data": {
      "image/png": "[encoded data removed]",
      "text/plain": [
       "<Figure size 432x288 with 1 Axes>"
      ]
     },
     "metadata": {
      "needs_background": "light"
     },
     "output_type": "display_data"
    },
    {
     "data": {
      "image/png": "[encoded data removed]",
      "text/plain": [
       "<Figure size 432x288 with 1 Axes>"
      ]
     },
     "metadata": {
      "needs_background": "light"
     },
     "output_type": "display_data"
    }
   ],
   "source": [
    "# What do the 5 skewed columns look like under log transformation?\n",
    "skewed_columns = ['density', 'area', 'neighbor_density', 'case_peak_ratio', 'case_total_ratio']\n",
    "for col in skewed_columns:\n",
    "    plt.hist(counties_features[col].map(lambda x: 0 if (x==0) else np.log(x)))\n",
    "    plt.title(col)\n",
    "    plt.show()\n",
    "    \n",
    "# beautiful"
   ]
  },
  {
   "cell_type": "code",
   "execution_count": 15,
   "id": "c7aea59f-d959-4276-a7ec-72c363ce5947",
   "metadata": {},
   "outputs": [
    {
     "name": "stderr",
     "output_type": "stream",
     "text": [
      "<ipython-input-15-759d71adc54b>:3: SettingWithCopyWarning: \n",
      "A value is trying to be set on a copy of a slice from a DataFrame.\n",
      "Try using .loc[row_indexer,col_indexer] = value instead\n",
      "\n",
      "See the caveats in the documentation: https://pandas.pydata.org/pandas-docs/stable/user_guide/indexing.html#returning-a-view-versus-a-copy\n",
      "  counties_features[col] = counties_features[col].map(lambda x: 0 if (x==0) else np.log(x))\n",
      "<ipython-input-15-759d71adc54b>:8: SettingWithCopyWarning: \n",
      "A value is trying to be set on a copy of a slice from a DataFrame.\n",
      "Try using .loc[row_indexer,col_indexer] = value instead\n",
      "\n",
      "See the caveats in the documentation: https://pandas.pydata.org/pandas-docs/stable/user_guide/indexing.html#returning-a-view-versus-a-copy\n",
      "  counties_features[col] = (counties_features[col] - mean) / std\n"
     ]
    },
    {
     "data": {
      "image/png": "[encoded data removed]",
      "text/plain": [
       "<Figure size 432x288 with 1 Axes>"
      ]
     },
     "metadata": {
      "needs_background": "light"
     },
     "output_type": "display_data"
    },
    {
     "data": {
      "image/png": "[encoded data removed]",
      "text/plain": [
       "<Figure size 432x288 with 1 Axes>"
      ]
     },
     "metadata": {
      "needs_background": "light"
     },
     "output_type": "display_data"
    },
    {
     "data": {
      "image/png": "[encoded data removed]",
      "text/plain": [
       "<Figure size 432x288 with 1 Axes>"
      ]
     },
     "metadata": {
      "needs_background": "light"
     },
     "output_type": "display_data"
    },
    {
     "data": {
      "image/png": "[encoded data removed]",
      "text/plain": [
       "<Figure size 432x288 with 1 Axes>"
      ]
     },
     "metadata": {
      "needs_background": "light"
     },
     "output_type": "display_data"
    },
    {
     "data": {
      "image/png": "[encoded data removed]",
      "text/plain": [
       "<Figure size 432x288 with 1 Axes>"
      ]
     },
     "metadata": {
      "needs_background": "light"
     },
     "output_type": "display_data"
    },
    {
     "data": {
      "image/png": "[encoded data removed]",
      "text/plain": [
       "<Figure size 432x288 with 1 Axes>"
      ]
     },
     "metadata": {
      "needs_background": "light"
     },
     "output_type": "display_data"
    }
   ],
   "source": [
    "# Execute transformation and normalize\n",
    "for col in skewed_columns:\n",
    "    counties_features[col] = counties_features[col].map(lambda x: 0 if (x==0) else np.log(x))\n",
    "    \n",
    "for col in counties_features.columns:\n",
    "    mean = counties_features[col].mean()\n",
    "    std = counties_features[col].std()\n",
    "    counties_features[col] = (counties_features[col] - mean) / std\n",
    "    plt.hist(counties_features[col])\n",
    "    plt.title(col)\n",
    "    plt.show()"
   ]
  },
  {
   "cell_type": "code",
   "execution_count": 16,
   "id": "cd8ddb4b-0ffe-4c49-abb8-701a9b75a1fe",
   "metadata": {},
   "outputs": [
    {
     "data": {
      "text/html": [
       "<div>\n",
       "<style scoped>\n",
       "    .dataframe tbody tr th:only-of-type {\n",
       "        vertical-align: middle;\n",
       "    }\n",
       "\n",
       "    .dataframe tbody tr th {\n",
       "        vertical-align: top;\n",
       "    }\n",
       "\n",
       "    .dataframe thead th {\n",
       "        text-align: right;\n",
       "    }\n",
       "</style>\n",
       "<table border=\"1\" class=\"dataframe\">\n",
       "  <thead>\n",
       "    <tr style=\"text-align: right;\">\n",
       "      <th></th>\n",
       "      <th>density</th>\n",
       "      <th>area</th>\n",
       "      <th>neighbor_density</th>\n",
       "      <th>vaccination_rate</th>\n",
       "      <th>case_peak_ratio</th>\n",
       "      <th>case_total_ratio</th>\n",
       "      <th>case_density</th>\n",
       "    </tr>\n",
       "  </thead>\n",
       "  <tbody>\n",
       "    <tr>\n",
       "      <th>density</th>\n",
       "      <td>1.000000</td>\n",
       "      <td>-0.527839</td>\n",
       "      <td>0.801511</td>\n",
       "      <td>0.355248</td>\n",
       "      <td>0.130022</td>\n",
       "      <td>0.292486</td>\n",
       "      <td>-0.035489</td>\n",
       "    </tr>\n",
       "    <tr>\n",
       "      <th>area</th>\n",
       "      <td>-0.527839</td>\n",
       "      <td>1.000000</td>\n",
       "      <td>-0.445306</td>\n",
       "      <td>-0.040559</td>\n",
       "      <td>-0.088344</td>\n",
       "      <td>-0.130313</td>\n",
       "      <td>-0.034494</td>\n",
       "    </tr>\n",
       "    <tr>\n",
       "      <th>neighbor_density</th>\n",
       "      <td>0.801511</td>\n",
       "      <td>-0.445306</td>\n",
       "      <td>1.000000</td>\n",
       "      <td>0.294702</td>\n",
       "      <td>0.081698</td>\n",
       "      <td>0.269695</td>\n",
       "      <td>-0.131006</td>\n",
       "    </tr>\n",
       "    <tr>\n",
       "      <th>vaccination_rate</th>\n",
       "      <td>0.355248</td>\n",
       "      <td>-0.040559</td>\n",
       "      <td>0.294702</td>\n",
       "      <td>1.000000</td>\n",
       "      <td>-0.129086</td>\n",
       "      <td>-0.074556</td>\n",
       "      <td>-0.307789</td>\n",
       "    </tr>\n",
       "    <tr>\n",
       "      <th>case_peak_ratio</th>\n",
       "      <td>0.130022</td>\n",
       "      <td>-0.088344</td>\n",
       "      <td>0.081698</td>\n",
       "      <td>-0.129086</td>\n",
       "      <td>1.000000</td>\n",
       "      <td>0.722035</td>\n",
       "      <td>0.332705</td>\n",
       "    </tr>\n",
       "    <tr>\n",
       "      <th>case_total_ratio</th>\n",
       "      <td>0.292486</td>\n",
       "      <td>-0.130313</td>\n",
       "      <td>0.269695</td>\n",
       "      <td>-0.074556</td>\n",
       "      <td>0.722035</td>\n",
       "      <td>1.000000</td>\n",
       "      <td>0.287827</td>\n",
       "    </tr>\n",
       "    <tr>\n",
       "      <th>case_density</th>\n",
       "      <td>-0.035489</td>\n",
       "      <td>-0.034494</td>\n",
       "      <td>-0.131006</td>\n",
       "      <td>-0.307789</td>\n",
       "      <td>0.332705</td>\n",
       "      <td>0.287827</td>\n",
       "      <td>1.000000</td>\n",
       "    </tr>\n",
       "  </tbody>\n",
       "</table>\n",
       "</div>"
      ],
      "text/plain": [
       "                   density      area  neighbor_density  vaccination_rate  \\\n",
       "density           1.000000 -0.527839          0.801511          0.355248   \n",
       "area             -0.527839  1.000000         -0.445306         -0.040559   \n",
       "neighbor_density  0.801511 -0.445306          1.000000          0.294702   \n",
       "vaccination_rate  0.355248 -0.040559          0.294702          1.000000   \n",
       "case_peak_ratio   0.130022 -0.088344          0.081698         -0.129086   \n",
       "case_total_ratio  0.292486 -0.130313          0.269695         -0.074556   \n",
       "case_density     -0.035489 -0.034494         -0.131006         -0.307789   \n",
       "\n",
       "                  case_peak_ratio  case_total_ratio  case_density  \n",
       "density                  0.130022          0.292486     -0.035489  \n",
       "area                    -0.088344         -0.130313     -0.034494  \n",
       "neighbor_density         0.081698          0.269695     -0.131006  \n",
       "vaccination_rate        -0.129086         -0.074556     -0.307789  \n",
       "case_peak_ratio          1.000000          0.722035      0.332705  \n",
       "case_total_ratio         0.722035          1.000000      0.287827  \n",
       "case_density             0.332705          0.287827      1.000000  "
      ]
     },
     "execution_count": 16,
     "metadata": {},
     "output_type": "execute_result"
    }
   ],
   "source": [
    "# Run correlations on all features and label --> case_density\n",
    "label='case_density'\n",
    "counties_features.merge(counties[label], left_index=True, right_index=True).corr()\n",
    "\n",
    "# Some correlation between case_density and vaccination rate and case_peak_ratio\n",
    "# case_peak_ratio and case_total_ratio seem lock-stepped, as expected, will go with case_peak_ratio"
   ]
  },
  {
   "cell_type": "code",
   "execution_count": 17,
   "id": "68f0e5b2-30b7-43b0-9d2e-a836a35c0123",
   "metadata": {},
   "outputs": [
    {
     "name": "stdout",
     "output_type": "stream",
     "text": [
      "[0.41843482 0.27316603 0.15102963 0.08538449 0.04140789 0.03057714]\n",
      "                         0         1         2         3         4         5\n",
      "density           0.564816 -0.198604 -0.008108 -0.216564 -0.139058 -0.758444\n",
      "area             -0.405834  0.127875  0.619169 -0.631758 -0.132292 -0.137685\n",
      "neighbor_density  0.536159 -0.204612 -0.017310 -0.508489 -0.145730  0.624955\n",
      "vaccination_rate  0.209672 -0.408856  0.741849  0.470559  0.075003  0.107161\n",
      "case_peak_ratio   0.250462  0.641358  0.173507  0.261894 -0.650755  0.061254\n",
      "case_total_ratio  0.349459  0.569064  0.189260 -0.073533  0.716112 -0.001094\n"
     ]
    }
   ],
   "source": [
    "# Maybe indentify the greatest variances in the feature space, PCA\n",
    "pca = PCA()\n",
    "pca.fit(counties_features)\n",
    "\n",
    "print(pca.explained_variance_ratio_)\n",
    "print(pd.DataFrame(pca.components_.T, index=counties_features.columns))\n",
    "\n",
    "# The first PCA component is the urban/rural axis, as expected, which I think the models can access readily with original features \n",
    "# The second PCA component (accounting for 27% of variance) shows significant spread along the vaccination_rate and inverse case_peak_ratio\n",
    "# Hmmm, let's also try to predict vaccination _rate... as a separate problem"
   ]
  },
  {
   "cell_type": "code",
   "execution_count": 18,
   "id": "d0335286-3541-486c-b9a9-d0239b768215",
   "metadata": {},
   "outputs": [
    {
     "name": "stderr",
     "output_type": "stream",
     "text": [
      "<ipython-input-18-bcaee39f841f>:6: SettingWithCopyWarning: \n",
      "A value is trying to be set on a copy of a slice from a DataFrame.\n",
      "Try using .loc[row_indexer,col_indexer] = value instead\n",
      "\n",
      "See the caveats in the documentation: https://pandas.pydata.org/pandas-docs/stable/user_guide/indexing.html#returning-a-view-versus-a-copy\n",
      "  counties_features['postvac_density'] = candata[candata['date']>='2021-06-21'].groupby('fips')['cases_new'].sum() / counties['pop']\n"
     ]
    }
   ],
   "source": [
    "# But what if we isolate post-vaccination case density?\n",
    "# Let's just look at case density after Jun 21, 2021, call it postvac_density\n",
    "candata = pd.read_pickle('../../pickles/CANpickles/candata.pkl')\n",
    "non_continental_states = ['AK', 'HI', 'MP', 'GU', 'VI', 'PR', 'AS']\n",
    "candata = candata[~candata['state'].isin(non_continental_states)]\n",
    "counties_features['postvac_density'] = candata[candata['date']>='2021-06-21'].groupby('fips')['cases_new'].sum() / counties['pop']"
   ]
  },
  {
   "cell_type": "code",
   "execution_count": 19,
   "id": "86513df0-7ebc-4a18-abf0-d3b51db8f335",
   "metadata": {},
   "outputs": [
    {
     "data": {
      "text/html": [
       "<div>\n",
       "<style scoped>\n",
       "    .dataframe tbody tr th:only-of-type {\n",
       "        vertical-align: middle;\n",
       "    }\n",
       "\n",
       "    .dataframe tbody tr th {\n",
       "        vertical-align: top;\n",
       "    }\n",
       "\n",
       "    .dataframe thead th {\n",
       "        text-align: right;\n",
       "    }\n",
       "</style>\n",
       "<table border=\"1\" class=\"dataframe\">\n",
       "  <thead>\n",
       "    <tr style=\"text-align: right;\">\n",
       "      <th></th>\n",
       "      <th>density</th>\n",
       "      <th>area</th>\n",
       "      <th>neighbor_density</th>\n",
       "      <th>vaccination_rate</th>\n",
       "      <th>case_peak_ratio</th>\n",
       "      <th>case_total_ratio</th>\n",
       "      <th>postvac_density</th>\n",
       "    </tr>\n",
       "    <tr>\n",
       "      <th>FIPS</th>\n",
       "      <th></th>\n",
       "      <th></th>\n",
       "      <th></th>\n",
       "      <th></th>\n",
       "      <th></th>\n",
       "      <th></th>\n",
       "      <th></th>\n",
       "    </tr>\n",
       "  </thead>\n",
       "  <tbody>\n",
       "    <tr>\n",
       "      <th>21141</th>\n",
       "      <td>0.008624</td>\n",
       "      <td>-0.178218</td>\n",
       "      <td>0.220357</td>\n",
       "      <td>0.010704</td>\n",
       "      <td>-0.122771</td>\n",
       "      <td>0.413202</td>\n",
       "      <td>0.040477</td>\n",
       "    </tr>\n",
       "    <tr>\n",
       "      <th>36081</th>\n",
       "      <td>3.543615</td>\n",
       "      <td>-2.064445</td>\n",
       "      <td>4.285388</td>\n",
       "      <td>2.281000</td>\n",
       "      <td>1.530355</td>\n",
       "      <td>1.156542</td>\n",
       "      <td>0.008419</td>\n",
       "    </tr>\n",
       "    <tr>\n",
       "      <th>34017</th>\n",
       "      <td>3.336877</td>\n",
       "      <td>-3.057947</td>\n",
       "      <td>3.836747</td>\n",
       "      <td>1.875927</td>\n",
       "      <td>1.891603</td>\n",
       "      <td>1.011670</td>\n",
       "      <td>0.006615</td>\n",
       "    </tr>\n",
       "    <tr>\n",
       "      <th>34019</th>\n",
       "      <td>1.048707</td>\n",
       "      <td>-0.474417</td>\n",
       "      <td>1.819389</td>\n",
       "      <td>1.640419</td>\n",
       "      <td>0.324766</td>\n",
       "      <td>0.162588</td>\n",
       "      <td>0.007172</td>\n",
       "    </tr>\n",
       "    <tr>\n",
       "      <th>21147</th>\n",
       "      <td>-0.105559</td>\n",
       "      <td>-0.477217</td>\n",
       "      <td>0.076956</td>\n",
       "      <td>-0.780602</td>\n",
       "      <td>-0.524602</td>\n",
       "      <td>-1.049952</td>\n",
       "      <td>0.032267</td>\n",
       "    </tr>\n",
       "    <tr>\n",
       "      <th>...</th>\n",
       "      <td>...</td>\n",
       "      <td>...</td>\n",
       "      <td>...</td>\n",
       "      <td>...</td>\n",
       "      <td>...</td>\n",
       "      <td>...</td>\n",
       "      <td>...</td>\n",
       "    </tr>\n",
       "    <tr>\n",
       "      <th>47021</th>\n",
       "      <td>0.597789</td>\n",
       "      <td>-0.876756</td>\n",
       "      <td>1.306484</td>\n",
       "      <td>-0.243644</td>\n",
       "      <td>0.180627</td>\n",
       "      <td>0.411704</td>\n",
       "      <td>0.025008</td>\n",
       "    </tr>\n",
       "    <tr>\n",
       "      <th>08014</th>\n",
       "      <td>2.215193</td>\n",
       "      <td>-3.449445</td>\n",
       "      <td>1.227146</td>\n",
       "      <td>2.563610</td>\n",
       "      <td>-0.599454</td>\n",
       "      <td>-0.045422</td>\n",
       "      <td>0.009650</td>\n",
       "    </tr>\n",
       "    <tr>\n",
       "      <th>08121</th>\n",
       "      <td>-1.877625</td>\n",
       "      <td>1.582890</td>\n",
       "      <td>0.648062</td>\n",
       "      <td>-1.553068</td>\n",
       "      <td>0.182974</td>\n",
       "      <td>-0.070204</td>\n",
       "      <td>0.003260</td>\n",
       "    </tr>\n",
       "    <tr>\n",
       "      <th>27037</th>\n",
       "      <td>1.612650</td>\n",
       "      <td>-0.156715</td>\n",
       "      <td>1.828033</td>\n",
       "      <td>1.470853</td>\n",
       "      <td>-0.288526</td>\n",
       "      <td>0.148375</td>\n",
       "      <td>0.007540</td>\n",
       "    </tr>\n",
       "    <tr>\n",
       "      <th>35037</th>\n",
       "      <td>-1.651046</td>\n",
       "      <td>1.736320</td>\n",
       "      <td>-1.622771</td>\n",
       "      <td>-0.526254</td>\n",
       "      <td>-0.320814</td>\n",
       "      <td>0.090150</td>\n",
       "      <td>0.026172</td>\n",
       "    </tr>\n",
       "  </tbody>\n",
       "</table>\n",
       "<p>3001 rows × 7 columns</p>\n",
       "</div>"
      ],
      "text/plain": [
       "        density      area  neighbor_density  vaccination_rate  \\\n",
       "FIPS                                                            \n",
       "21141  0.008624 -0.178218          0.220357          0.010704   \n",
       "36081  3.543615 -2.064445          4.285388          2.281000   \n",
       "34017  3.336877 -3.057947          3.836747          1.875927   \n",
       "34019  1.048707 -0.474417          1.819389          1.640419   \n",
       "21147 -0.105559 -0.477217          0.076956         -0.780602   \n",
       "...         ...       ...               ...               ...   \n",
       "47021  0.597789 -0.876756          1.306484         -0.243644   \n",
       "08014  2.215193 -3.449445          1.227146          2.563610   \n",
       "08121 -1.877625  1.582890          0.648062         -1.553068   \n",
       "27037  1.612650 -0.156715          1.828033          1.470853   \n",
       "35037 -1.651046  1.736320         -1.622771         -0.526254   \n",
       "\n",
       "       case_peak_ratio  case_total_ratio  postvac_density  \n",
       "FIPS                                                       \n",
       "21141        -0.122771          0.413202         0.040477  \n",
       "36081         1.530355          1.156542         0.008419  \n",
       "34017         1.891603          1.011670         0.006615  \n",
       "34019         0.324766          0.162588         0.007172  \n",
       "21147        -0.524602         -1.049952         0.032267  \n",
       "...                ...               ...              ...  \n",
       "47021         0.180627          0.411704         0.025008  \n",
       "08014        -0.599454         -0.045422         0.009650  \n",
       "08121         0.182974         -0.070204         0.003260  \n",
       "27037        -0.288526          0.148375         0.007540  \n",
       "35037        -0.320814          0.090150         0.026172  \n",
       "\n",
       "[3001 rows x 7 columns]"
      ]
     },
     "execution_count": 19,
     "metadata": {},
     "output_type": "execute_result"
    }
   ],
   "source": [
    "counties_features"
   ]
  },
  {
   "cell_type": "code",
   "execution_count": 20,
   "id": "a8e88480-c203-4843-bae4-d3133dda9ad6",
   "metadata": {},
   "outputs": [
    {
     "data": {
      "text/html": [
       "<div>\n",
       "<style scoped>\n",
       "    .dataframe tbody tr th:only-of-type {\n",
       "        vertical-align: middle;\n",
       "    }\n",
       "\n",
       "    .dataframe tbody tr th {\n",
       "        vertical-align: top;\n",
       "    }\n",
       "\n",
       "    .dataframe thead th {\n",
       "        text-align: right;\n",
       "    }\n",
       "</style>\n",
       "<table border=\"1\" class=\"dataframe\">\n",
       "  <thead>\n",
       "    <tr style=\"text-align: right;\">\n",
       "      <th></th>\n",
       "      <th>density</th>\n",
       "      <th>area</th>\n",
       "      <th>neighbor_density</th>\n",
       "      <th>vaccination_rate</th>\n",
       "      <th>case_peak_ratio</th>\n",
       "      <th>case_total_ratio</th>\n",
       "      <th>postvac_density</th>\n",
       "      <th>case_density</th>\n",
       "    </tr>\n",
       "  </thead>\n",
       "  <tbody>\n",
       "    <tr>\n",
       "      <th>density</th>\n",
       "      <td>1.000000</td>\n",
       "      <td>-0.527839</td>\n",
       "      <td>0.801511</td>\n",
       "      <td>0.355248</td>\n",
       "      <td>0.130022</td>\n",
       "      <td>0.292486</td>\n",
       "      <td>0.050626</td>\n",
       "      <td>-0.035489</td>\n",
       "    </tr>\n",
       "    <tr>\n",
       "      <th>area</th>\n",
       "      <td>-0.527839</td>\n",
       "      <td>1.000000</td>\n",
       "      <td>-0.445306</td>\n",
       "      <td>-0.040559</td>\n",
       "      <td>-0.088344</td>\n",
       "      <td>-0.130313</td>\n",
       "      <td>-0.080769</td>\n",
       "      <td>-0.034494</td>\n",
       "    </tr>\n",
       "    <tr>\n",
       "      <th>neighbor_density</th>\n",
       "      <td>0.801511</td>\n",
       "      <td>-0.445306</td>\n",
       "      <td>1.000000</td>\n",
       "      <td>0.294702</td>\n",
       "      <td>0.081698</td>\n",
       "      <td>0.269695</td>\n",
       "      <td>0.030376</td>\n",
       "      <td>-0.131006</td>\n",
       "    </tr>\n",
       "    <tr>\n",
       "      <th>vaccination_rate</th>\n",
       "      <td>0.355248</td>\n",
       "      <td>-0.040559</td>\n",
       "      <td>0.294702</td>\n",
       "      <td>1.000000</td>\n",
       "      <td>-0.129086</td>\n",
       "      <td>-0.074556</td>\n",
       "      <td>-0.379579</td>\n",
       "      <td>-0.307789</td>\n",
       "    </tr>\n",
       "    <tr>\n",
       "      <th>case_peak_ratio</th>\n",
       "      <td>0.130022</td>\n",
       "      <td>-0.088344</td>\n",
       "      <td>0.081698</td>\n",
       "      <td>-0.129086</td>\n",
       "      <td>1.000000</td>\n",
       "      <td>0.722035</td>\n",
       "      <td>0.269312</td>\n",
       "      <td>0.332705</td>\n",
       "    </tr>\n",
       "    <tr>\n",
       "      <th>case_total_ratio</th>\n",
       "      <td>0.292486</td>\n",
       "      <td>-0.130313</td>\n",
       "      <td>0.269695</td>\n",
       "      <td>-0.074556</td>\n",
       "      <td>0.722035</td>\n",
       "      <td>1.000000</td>\n",
       "      <td>0.410139</td>\n",
       "      <td>0.287827</td>\n",
       "    </tr>\n",
       "    <tr>\n",
       "      <th>postvac_density</th>\n",
       "      <td>0.050626</td>\n",
       "      <td>-0.080769</td>\n",
       "      <td>0.030376</td>\n",
       "      <td>-0.379579</td>\n",
       "      <td>0.269312</td>\n",
       "      <td>0.410139</td>\n",
       "      <td>1.000000</td>\n",
       "      <td>0.498995</td>\n",
       "    </tr>\n",
       "    <tr>\n",
       "      <th>case_density</th>\n",
       "      <td>-0.035489</td>\n",
       "      <td>-0.034494</td>\n",
       "      <td>-0.131006</td>\n",
       "      <td>-0.307789</td>\n",
       "      <td>0.332705</td>\n",
       "      <td>0.287827</td>\n",
       "      <td>0.498995</td>\n",
       "      <td>1.000000</td>\n",
       "    </tr>\n",
       "  </tbody>\n",
       "</table>\n",
       "</div>"
      ],
      "text/plain": [
       "                   density      area  neighbor_density  vaccination_rate  \\\n",
       "density           1.000000 -0.527839          0.801511          0.355248   \n",
       "area             -0.527839  1.000000         -0.445306         -0.040559   \n",
       "neighbor_density  0.801511 -0.445306          1.000000          0.294702   \n",
       "vaccination_rate  0.355248 -0.040559          0.294702          1.000000   \n",
       "case_peak_ratio   0.130022 -0.088344          0.081698         -0.129086   \n",
       "case_total_ratio  0.292486 -0.130313          0.269695         -0.074556   \n",
       "postvac_density   0.050626 -0.080769          0.030376         -0.379579   \n",
       "case_density     -0.035489 -0.034494         -0.131006         -0.307789   \n",
       "\n",
       "                  case_peak_ratio  case_total_ratio  postvac_density  \\\n",
       "density                  0.130022          0.292486         0.050626   \n",
       "area                    -0.088344         -0.130313        -0.080769   \n",
       "neighbor_density         0.081698          0.269695         0.030376   \n",
       "vaccination_rate        -0.129086         -0.074556        -0.379579   \n",
       "case_peak_ratio          1.000000          0.722035         0.269312   \n",
       "case_total_ratio         0.722035          1.000000         0.410139   \n",
       "postvac_density          0.269312          0.410139         1.000000   \n",
       "case_density             0.332705          0.287827         0.498995   \n",
       "\n",
       "                  case_density  \n",
       "density              -0.035489  \n",
       "area                 -0.034494  \n",
       "neighbor_density     -0.131006  \n",
       "vaccination_rate     -0.307789  \n",
       "case_peak_ratio       0.332705  \n",
       "case_total_ratio      0.287827  \n",
       "postvac_density       0.498995  \n",
       "case_density          1.000000  "
      ]
     },
     "execution_count": 20,
     "metadata": {},
     "output_type": "execute_result"
    }
   ],
   "source": [
    "# Find correlations with postvac_density. I include case_density just to see the correlations side-by-side\n",
    "counties_features.merge(counties[label], left_index=True, right_index=True).corr()"
   ]
  },
  {
   "cell_type": "code",
   "execution_count": 21,
   "id": "b61153b9-430b-4447-861e-4c58ef5332c1",
   "metadata": {},
   "outputs": [
    {
     "name": "stderr",
     "output_type": "stream",
     "text": [
      "<ipython-input-21-b194136a11b2>:2: SettingWithCopyWarning: \n",
      "A value is trying to be set on a copy of a slice from a DataFrame.\n",
      "Try using .loc[row_indexer,col_indexer] = value instead\n",
      "\n",
      "See the caveats in the documentation: https://pandas.pydata.org/pandas-docs/stable/user_guide/indexing.html#returning-a-view-versus-a-copy\n",
      "  counties_features['prevac_density'] = candata[candata['date']<'2021-06-21'].groupby('fips')['cases_new'].sum() / counties['pop']\n"
     ]
    },
    {
     "data": {
      "text/html": [
       "<div>\n",
       "<style scoped>\n",
       "    .dataframe tbody tr th:only-of-type {\n",
       "        vertical-align: middle;\n",
       "    }\n",
       "\n",
       "    .dataframe tbody tr th {\n",
       "        vertical-align: top;\n",
       "    }\n",
       "\n",
       "    .dataframe thead th {\n",
       "        text-align: right;\n",
       "    }\n",
       "</style>\n",
       "<table border=\"1\" class=\"dataframe\">\n",
       "  <thead>\n",
       "    <tr style=\"text-align: right;\">\n",
       "      <th></th>\n",
       "      <th>density</th>\n",
       "      <th>area</th>\n",
       "      <th>neighbor_density</th>\n",
       "      <th>vaccination_rate</th>\n",
       "      <th>case_peak_ratio</th>\n",
       "      <th>case_total_ratio</th>\n",
       "      <th>postvac_density</th>\n",
       "      <th>prevac_density</th>\n",
       "      <th>case_density</th>\n",
       "    </tr>\n",
       "  </thead>\n",
       "  <tbody>\n",
       "    <tr>\n",
       "      <th>density</th>\n",
       "      <td>1.000000</td>\n",
       "      <td>-0.527839</td>\n",
       "      <td>0.801511</td>\n",
       "      <td>0.355248</td>\n",
       "      <td>0.130022</td>\n",
       "      <td>0.292486</td>\n",
       "      <td>0.050626</td>\n",
       "      <td>-0.082493</td>\n",
       "      <td>-0.035489</td>\n",
       "    </tr>\n",
       "    <tr>\n",
       "      <th>area</th>\n",
       "      <td>-0.527839</td>\n",
       "      <td>1.000000</td>\n",
       "      <td>-0.445306</td>\n",
       "      <td>-0.040559</td>\n",
       "      <td>-0.088344</td>\n",
       "      <td>-0.130313</td>\n",
       "      <td>-0.080769</td>\n",
       "      <td>-0.012181</td>\n",
       "      <td>-0.034494</td>\n",
       "    </tr>\n",
       "    <tr>\n",
       "      <th>neighbor_density</th>\n",
       "      <td>0.801511</td>\n",
       "      <td>-0.445306</td>\n",
       "      <td>1.000000</td>\n",
       "      <td>0.294702</td>\n",
       "      <td>0.081698</td>\n",
       "      <td>0.269695</td>\n",
       "      <td>0.030376</td>\n",
       "      <td>-0.187606</td>\n",
       "      <td>-0.131006</td>\n",
       "    </tr>\n",
       "    <tr>\n",
       "      <th>vaccination_rate</th>\n",
       "      <td>0.355248</td>\n",
       "      <td>-0.040559</td>\n",
       "      <td>0.294702</td>\n",
       "      <td>1.000000</td>\n",
       "      <td>-0.129086</td>\n",
       "      <td>-0.074556</td>\n",
       "      <td>-0.379579</td>\n",
       "      <td>-0.168197</td>\n",
       "      <td>-0.307789</td>\n",
       "    </tr>\n",
       "    <tr>\n",
       "      <th>case_peak_ratio</th>\n",
       "      <td>0.130022</td>\n",
       "      <td>-0.088344</td>\n",
       "      <td>0.081698</td>\n",
       "      <td>-0.129086</td>\n",
       "      <td>1.000000</td>\n",
       "      <td>0.722035</td>\n",
       "      <td>0.269312</td>\n",
       "      <td>0.247138</td>\n",
       "      <td>0.332705</td>\n",
       "    </tr>\n",
       "    <tr>\n",
       "      <th>case_total_ratio</th>\n",
       "      <td>0.292486</td>\n",
       "      <td>-0.130313</td>\n",
       "      <td>0.269695</td>\n",
       "      <td>-0.074556</td>\n",
       "      <td>0.722035</td>\n",
       "      <td>1.000000</td>\n",
       "      <td>0.410139</td>\n",
       "      <td>0.129540</td>\n",
       "      <td>0.287827</td>\n",
       "    </tr>\n",
       "    <tr>\n",
       "      <th>postvac_density</th>\n",
       "      <td>0.050626</td>\n",
       "      <td>-0.080769</td>\n",
       "      <td>0.030376</td>\n",
       "      <td>-0.379579</td>\n",
       "      <td>0.269312</td>\n",
       "      <td>0.410139</td>\n",
       "      <td>1.000000</td>\n",
       "      <td>0.124591</td>\n",
       "      <td>0.498995</td>\n",
       "    </tr>\n",
       "    <tr>\n",
       "      <th>prevac_density</th>\n",
       "      <td>-0.082493</td>\n",
       "      <td>-0.012181</td>\n",
       "      <td>-0.187606</td>\n",
       "      <td>-0.168197</td>\n",
       "      <td>0.247138</td>\n",
       "      <td>0.129540</td>\n",
       "      <td>0.124591</td>\n",
       "      <td>1.000000</td>\n",
       "      <td>0.894109</td>\n",
       "    </tr>\n",
       "    <tr>\n",
       "      <th>case_density</th>\n",
       "      <td>-0.035489</td>\n",
       "      <td>-0.034494</td>\n",
       "      <td>-0.131006</td>\n",
       "      <td>-0.307789</td>\n",
       "      <td>0.332705</td>\n",
       "      <td>0.287827</td>\n",
       "      <td>0.498995</td>\n",
       "      <td>0.894109</td>\n",
       "      <td>1.000000</td>\n",
       "    </tr>\n",
       "  </tbody>\n",
       "</table>\n",
       "</div>"
      ],
      "text/plain": [
       "                   density      area  neighbor_density  vaccination_rate  \\\n",
       "density           1.000000 -0.527839          0.801511          0.355248   \n",
       "area             -0.527839  1.000000         -0.445306         -0.040559   \n",
       "neighbor_density  0.801511 -0.445306          1.000000          0.294702   \n",
       "vaccination_rate  0.355248 -0.040559          0.294702          1.000000   \n",
       "case_peak_ratio   0.130022 -0.088344          0.081698         -0.129086   \n",
       "case_total_ratio  0.292486 -0.130313          0.269695         -0.074556   \n",
       "postvac_density   0.050626 -0.080769          0.030376         -0.379579   \n",
       "prevac_density   -0.082493 -0.012181         -0.187606         -0.168197   \n",
       "case_density     -0.035489 -0.034494         -0.131006         -0.307789   \n",
       "\n",
       "                  case_peak_ratio  case_total_ratio  postvac_density  \\\n",
       "density                  0.130022          0.292486         0.050626   \n",
       "area                    -0.088344         -0.130313        -0.080769   \n",
       "neighbor_density         0.081698          0.269695         0.030376   \n",
       "vaccination_rate        -0.129086         -0.074556        -0.379579   \n",
       "case_peak_ratio          1.000000          0.722035         0.269312   \n",
       "case_total_ratio         0.722035          1.000000         0.410139   \n",
       "postvac_density          0.269312          0.410139         1.000000   \n",
       "prevac_density           0.247138          0.129540         0.124591   \n",
       "case_density             0.332705          0.287827         0.498995   \n",
       "\n",
       "                  prevac_density  case_density  \n",
       "density                -0.082493     -0.035489  \n",
       "area                   -0.012181     -0.034494  \n",
       "neighbor_density       -0.187606     -0.131006  \n",
       "vaccination_rate       -0.168197     -0.307789  \n",
       "case_peak_ratio         0.247138      0.332705  \n",
       "case_total_ratio        0.129540      0.287827  \n",
       "postvac_density         0.124591      0.498995  \n",
       "prevac_density          1.000000      0.894109  \n",
       "case_density            0.894109      1.000000  "
      ]
     },
     "execution_count": 21,
     "metadata": {},
     "output_type": "execute_result"
    }
   ],
   "source": [
    "# Let's just look at case density *before* Jun 21, 2021, call it prevac_density\n",
    "counties_features['prevac_density'] = candata[candata['date']<'2021-06-21'].groupby('fips')['cases_new'].sum() / counties['pop']\n",
    "counties_features.merge(counties[label], left_index=True, right_index=True).corr()\n",
    "\n",
    "# Pre-vaccination case density has no correlation with population density. Luckily also no correlation with vaccination rate, as expected. "
   ]
  },
  {
   "cell_type": "markdown",
   "id": "37cab975-4e3e-4fa1-a5d8-c372e08a3907",
   "metadata": {},
   "source": [
    "## Predict Case Density"
   ]
  },
  {
   "cell_type": "code",
   "execution_count": 22,
   "id": "93c3f097-346e-4d79-ba47-bf390b0d4e03",
   "metadata": {},
   "outputs": [],
   "source": [
    "# split data into training and testing sets, 67%/33%\n",
    "case_density_features = ['density', 'area', 'neighbor_density', 'vaccination_rate', 'case_peak_ratio']\n",
    "case_density_label = 'case_density'\n",
    "X_train, X_test, y_train, y_test = train_test_split(counties_features[case_density_features], counties[case_density_label], test_size=0.33, random_state=17)"
   ]
  },
  {
   "cell_type": "code",
   "execution_count": 23,
   "id": "ce5d696b-1e90-45d4-b378-3f54206af174",
   "metadata": {},
   "outputs": [
    {
     "data": {
      "text/plain": [
       "count    3001.000000\n",
       "mean        0.123217\n",
       "std         0.033624\n",
       "min         0.014560\n",
       "25%         0.102400\n",
       "50%         0.124138\n",
       "75%         0.143244\n",
       "max         0.466856\n",
       "Name: case_density, dtype: float64"
      ]
     },
     "execution_count": 23,
     "metadata": {},
     "output_type": "execute_result"
    }
   ],
   "source": [
    "counties[case_density_label].describe()\n",
    "\n",
    "# Huh, this implies approximately 41% of Americans have been infected?"
   ]
  },
  {
   "cell_type": "code",
   "execution_count": 24,
   "id": "322bbdcc-ea06-473b-8ffd-437d3758d316",
   "metadata": {},
   "outputs": [],
   "source": [
    "# Create off-the-shelf models\n",
    "linearRgr = LinearRegression()\n",
    "treeRgr = DecisionTreeRegressor(random_state=17)\n",
    "knnRgr = KNeighborsRegressor()\n",
    "rndforestRgr = RandomForestRegressor(random_state=17)\n",
    "svmRgr = SVR()\n",
    "xgbRgr_OTS = XGBRegressor()\n",
    "\n",
    "# Through my own series of raw testing (manually adjusting params), I isolated the following param set as optimal for xgboost.\n",
    "# Default values of several params ended up being optimal.\n",
    "xgbRgr_manual = XGBRegressor(n_estimators=20, reg_lambda=2., eta=0.3, gamma=0, reg_alpha=0, max_depth=4, subsample=1)"
   ]
  },
  {
   "cell_type": "code",
   "execution_count": 25,
   "id": "b761e575-57fc-47e8-a7aa-81d40b6d355d",
   "metadata": {},
   "outputs": [
    {
     "name": "stdout",
     "output_type": "stream",
     "text": [
      "linear regression: 0.18179153717228239\n",
      "decision tree regression: -0.5515456414348157\n",
      "k nearest neighbors regression: 0.15104310955540073\n",
      "random forest regression: 0.18278149387188286\n",
      "support vector machine regression: -0.48248590059444235\n",
      "xgboost off-the-shelf regression: 0.06203644956211696\n",
      "xgboost manually-tuned regression: 0.18707578563723273\n"
     ]
    }
   ],
   "source": [
    "# Run cross_val_score to view quality\n",
    "print('linear regression:', cross_val_score(linearRgr, X_train, y_train, cv=5).mean())\n",
    "print('decision tree regression:', cross_val_score(treeRgr, X_train, y_train, cv=5).mean())\n",
    "print('k nearest neighbors regression:', cross_val_score(knnRgr, X_train, y_train.ravel(), cv=5).mean())\n",
    "print('random forest regression:', cross_val_score(rndforestRgr, X_train, y_train, cv=5).mean())\n",
    "print('support vector machine regression:', cross_val_score(svmRgr, X_train, y_train.ravel(), cv=5).mean())\n",
    "print('xgboost off-the-shelf regression:', cross_val_score(xgbRgr_OTS, X_train, y_train, cv=5).mean())\n",
    "print('xgboost manually-tuned regression:', cross_val_score(xgbRgr_manual, X_train, y_train, cv=5).mean())"
   ]
  },
  {
   "cell_type": "code",
   "execution_count": 26,
   "id": "24e154aa-5ad8-46df-94e9-7df5ad5be468",
   "metadata": {},
   "outputs": [
    {
     "name": "stdout",
     "output_type": "stream",
     "text": [
      "BASELINE naive predictions against mean of training targets: 0.02586951859912746\n",
      "linear regression MAE: 0.02204921828517618\n",
      "decision tree regression MAE: 0.02718329294416468\n",
      "k nearest neighbors regression MAE: 0.022106862316589884\n",
      "random forest regression MAE: 0.021333856792824932\n",
      "support vector regression MAE: 0.03144757395822651\n",
      "xgboost off-the-shelf regression MAE: 0.02266255998028282\n",
      "xgboost manually-tuned regression MAE: 0.021270861195167915\n"
     ]
    }
   ],
   "source": [
    "# Fit and predict\n",
    "print('BASELINE naive predictions against mean of training targets:', mean_absolute_error(np.full(y_test.shape[0], y_train.mean()), y_test))\n",
    "print('linear regression MAE:', mean_absolute_error(linearRgr.fit(X_train, y_train).predict(X_test), y_test))\n",
    "print('decision tree regression MAE:', mean_absolute_error(treeRgr.fit(X_train, y_train).predict(X_test), y_test))\n",
    "print('k nearest neighbors regression MAE:', mean_absolute_error(knnRgr.fit(X_train, y_train).predict(X_test), y_test))\n",
    "print('random forest regression MAE:', mean_absolute_error(rndforestRgr.fit(X_train, y_train).predict(X_test), y_test))\n",
    "print('support vector regression MAE:', mean_absolute_error(svmRgr.fit(X_train, y_train).predict(X_test), y_test))\n",
    "print('xgboost off-the-shelf regression MAE:', mean_absolute_error(xgbRgr_OTS.fit(X_train, y_train).predict(X_test), y_test))\n",
    "print('xgboost manually-tuned regression MAE:', mean_absolute_error(xgbRgr_manual.fit(X_train, y_train).predict(X_test), y_test))"
   ]
  },
  {
   "cell_type": "code",
   "execution_count": 27,
   "id": "9aa6c62b-6970-4756-91b6-1546a7575525",
   "metadata": {},
   "outputs": [
    {
     "name": "stdout",
     "output_type": "stream",
     "text": [
      "100%|████████████████████████████████████████████| 100/100 [00:07<00:00, 13.03trial/s, best loss: 0.022398844952045555]\n"
     ]
    },
    {
     "data": {
      "text/plain": [
       "{'alpha': 0.0,\n",
       " 'eta': 0.3301844574620725,\n",
       " 'gamma': 0.02656962586865938,\n",
       " 'lambda': 0.5053862500845125,\n",
       " 'max_depth': 3.0,\n",
       " 'min_child_weight': 10.0,\n",
       " 'n_estimators': 75.0,\n",
       " 'subsample': 0.7043296643277126}"
      ]
     },
     "execution_count": 27,
     "metadata": {},
     "output_type": "execute_result"
    }
   ],
   "source": [
    "# Let's see what hyperopt says\n",
    "def objective(space):\n",
    "    xgb_hyperopt = XGBRegressor(\n",
    "        n_estimators = int(space['n_estimators']),\n",
    "        eta = space['eta'],\n",
    "        max_depth = int(space['max_depth']),\n",
    "        min_child_weight = space['min_child_weight'],\n",
    "        subsample = space['subsample'],\n",
    "        gamma = space['gamma'],\n",
    "        reg_alpha = space['alpha'],\n",
    "        reg_lambda = space['lambda']\n",
    "    )\n",
    "    \n",
    "    return {'loss': mean_absolute_error(xgb_hyperopt.fit(X_train, y_train).predict(X_test), y_test), 'status': STATUS_OK}\n",
    "    \n",
    "\n",
    "space = {\n",
    "    'n_estimators': hp.quniform('n_estimators', 5, 200, 5),\n",
    "    'eta': hp.uniform('eta', 0.05, 0.5),\n",
    "    'max_depth': hp.quniform('max_depth', 1, 14, 1),\n",
    "    'min_child_weight': hp.quniform('min_child_weight', 0, 10, 1),\n",
    "    'subsample': hp.uniform('subsample', 0.7, 1),\n",
    "    'gamma': hp.uniform('gamma', 0, 1),\n",
    "    'alpha' : hp.quniform('alpha', 0, 20, 1),\n",
    "    'lambda': hp.uniform('lambda', 0, 3),\n",
    "}\n",
    "\n",
    "trials = Trials()\n",
    "best = fmin(objective,\n",
    "    space = space,\n",
    "    algo = tpe.suggest,\n",
    "    max_evals = 100,\n",
    "    trials = trials\n",
    ")\n",
    "\n",
    "best\n",
    "\n",
    "# Cool, slight imporovement over my best loss from manually tuning of .02127 (passed into xgbRgr_manual above)"
   ]
  },
  {
   "cell_type": "markdown",
   "id": "5de0b5f3-0a51-4ea5-99f5-c86643d051fa",
   "metadata": {},
   "source": [
    "## Predict Vaccination Rate"
   ]
  },
  {
   "cell_type": "code",
   "execution_count": 28,
   "id": "0e8edbbe-4b48-4a4f-93db-6256e240d11c",
   "metadata": {},
   "outputs": [],
   "source": [
    "# split data\n",
    "vaccination_rate_features = ['density', 'area', 'neighbor_density', 'case_peak_ratio']\n",
    "vaccination_rate_label = 'vaccination_rate'\n",
    "X_train, X_test, y_train, y_test = train_test_split(counties_features[vaccination_rate_features], counties[vaccination_rate_label], test_size=0.33, random_state=13)"
   ]
  },
  {
   "cell_type": "code",
   "execution_count": 29,
   "id": "532ecdab-7a46-406c-8abf-3292128a2810",
   "metadata": {},
   "outputs": [
    {
     "data": {
      "text/plain": [
       "count    3001.000000\n",
       "mean        0.410864\n",
       "std         0.106154\n",
       "min         0.023000\n",
       "25%         0.336000\n",
       "50%         0.397000\n",
       "75%         0.476000\n",
       "max         0.834000\n",
       "Name: vaccination_rate, dtype: float64"
      ]
     },
     "execution_count": 29,
     "metadata": {},
     "output_type": "execute_result"
    }
   ],
   "source": [
    "counties[vaccination_rate_label].describe()"
   ]
  },
  {
   "cell_type": "code",
   "execution_count": 30,
   "id": "ffa87e01-01a4-45ce-9d6d-2451593ec663",
   "metadata": {},
   "outputs": [],
   "source": [
    "# Create off-the-shelf models\n",
    "linearRgr = LinearRegression()\n",
    "treeRgr = DecisionTreeRegressor(random_state=17)\n",
    "knnRgr = KNeighborsRegressor()\n",
    "rndforestRgr = RandomForestRegressor(random_state=17)\n",
    "svmRgr = SVR()\n",
    "xgbRgr_OTS = XGBRegressor()"
   ]
  },
  {
   "cell_type": "code",
   "execution_count": 33,
   "id": "c6e1069b-ae61-40a7-8762-f7a822580409",
   "metadata": {},
   "outputs": [
    {
     "name": "stdout",
     "output_type": "stream",
     "text": [
      "linear regression: 0.1758993608381042\n",
      "decision tree regression: -0.4821097890778595\n",
      "k nearest neighbors regression: 0.140250298556567\n",
      "random forest regression: 0.2058407615854289\n",
      "support vector machine regression: 0.21074936846265407\n",
      "xgboost regression: 0.08163440505941248\n"
     ]
    }
   ],
   "source": [
    "# Run cross_val_score to view quality\n",
    "print('linear regression:', cross_val_score(linearRgr, X_train, y_train, cv=5).mean())\n",
    "print('decision tree regression:', cross_val_score(treeRgr, X_train, y_train, cv=5).mean())\n",
    "print('k nearest neighbors regression:', cross_val_score(knnRgr, X_train, y_train.ravel(), cv=5).mean())\n",
    "print('random forest regression:', cross_val_score(rndforestRgr, X_train, y_train, cv=5).mean())\n",
    "print('support vector machine regression:', cross_val_score(svmRgr, X_train, y_train.ravel(), cv=5).mean())\n",
    "print('xgboost regression:', cross_val_score(xgbRgr_OTS, X_train, y_train, cv=5).mean())"
   ]
  },
  {
   "cell_type": "code",
   "execution_count": 34,
   "id": "601c8348-8f07-4a64-9aba-0b19530e7b71",
   "metadata": {},
   "outputs": [
    {
     "name": "stdout",
     "output_type": "stream",
     "text": [
      "BASELINE naive predictions against mean of training targets: 0.08384314200942815\n",
      "linear regression MAE: 0.07476529222788453\n",
      "decision tree regression MAE: 0.09875378405650859\n",
      "k nearest neighbors regression MAE: 0.07619011099899092\n",
      "random forest regression MAE: 0.07239881937436933\n",
      "support vector regression MAE: 0.07304859348347685\n",
      "xgboost off-the-shelf regression MAE: 0.07410624883213392\n"
     ]
    }
   ],
   "source": [
    "# fit and predict\n",
    "print('BASELINE naive predictions against mean of training targets:', mean_absolute_error(np.full(y_test.shape[0], y_train.mean()), y_test))\n",
    "print('linear regression MAE:', mean_absolute_error(linearRgr.fit(X_train, y_train).predict(X_test), y_test))\n",
    "print('decision tree regression MAE:', mean_absolute_error(treeRgr.fit(X_train, y_train).predict(X_test), y_test))\n",
    "print('k nearest neighbors regression MAE:', mean_absolute_error(knnRgr.fit(X_train, y_train).predict(X_test), y_test))\n",
    "print('random forest regression MAE:', mean_absolute_error(rndforestRgr.fit(X_train, y_train).predict(X_test), y_test))\n",
    "print('support vector regression MAE:', mean_absolute_error(svmRgr.fit(X_train, y_train).predict(X_test), y_test))\n",
    "print('xgboost off-the-shelf regression MAE:', mean_absolute_error(xgbRgr_OTS.fit(X_train, y_train).predict(X_test), y_test))"
   ]
  },
  {
   "cell_type": "code",
   "execution_count": 35,
   "id": "dbbd826e-83f2-478b-af12-0dc67a201c46",
   "metadata": {},
   "outputs": [
    {
     "name": "stdout",
     "output_type": "stream",
     "text": [
      "100%|█████████████████████████████████████████████| 100/100 [00:22<00:00,  4.52trial/s, best loss: 0.07072527908749586]\n"
     ]
    },
    {
     "data": {
      "text/plain": [
       "{'alpha': 1.0,\n",
       " 'eta': 0.10121729068275245,\n",
       " 'gamma': 0.00790390924863181,\n",
       " 'lambda': 2.2037998153387064,\n",
       " 'max_depth': 3.0,\n",
       " 'min_child_weight': 7.0,\n",
       " 'n_estimators': 255.0,\n",
       " 'subsample': 0.8070082014777131}"
      ]
     },
     "execution_count": 35,
     "metadata": {},
     "output_type": "execute_result"
    }
   ],
   "source": [
    "# Let's check the hyperopt tuning\n",
    "def objective(space):\n",
    "    xgb_hyperopt = XGBRegressor(\n",
    "        n_estimators = int(space['n_estimators']),\n",
    "        eta = space['eta'],\n",
    "        max_depth = int(space['max_depth']),\n",
    "        min_child_weight = space['min_child_weight'],\n",
    "        subsample = space['subsample'],\n",
    "        gamma = space['gamma'],\n",
    "        reg_alpha = space['alpha'],\n",
    "        reg_lambda = space['lambda']\n",
    "    )\n",
    "    \n",
    "    return {'loss': mean_absolute_error(xgb_hyperopt.fit(X_train, y_train).predict(X_test), y_test), 'status': STATUS_OK}\n",
    "    \n",
    "\n",
    "space = {\n",
    "    'n_estimators': hp.quniform('n_estimators', 5, 400, 5),\n",
    "    'eta': hp.uniform('eta', 0.05, 0.5),\n",
    "    'max_depth': hp.quniform('max_depth', 1, 14, 1),\n",
    "    'min_child_weight': hp.quniform('min_child_weight', 0, 10, 1),\n",
    "    'subsample': hp.uniform('subsample', 0.7, 1),\n",
    "    'gamma': hp.uniform('gamma', 0, 1),\n",
    "    'alpha' : hp.quniform('alpha', 0, 20, 1),\n",
    "    'lambda': hp.uniform('lambda', 0, 3),\n",
    "}\n",
    "\n",
    "trials = Trials()\n",
    "best = fmin(objective,\n",
    "    space = space,\n",
    "    algo = tpe.suggest,\n",
    "    max_evals = 100,\n",
    "    trials = trials\n",
    ")\n",
    "\n",
    "best"
   ]
  },
  {
   "cell_type": "markdown",
   "id": "d8a18fb4-65f6-4040-8889-f06ac4d91751",
   "metadata": {},
   "source": [
    "## Next Steps\n",
    "- Plot of vaccination rate predictions, baseline predictions, and actual vaccination rates on same axes. X-axis is fips, but ordered by increasing actual vaccination rates.\n",
    "- Same for case density.\n",
    "- ..."
   ]
  },
  {
   "cell_type": "code",
   "execution_count": 36,
   "id": "b3086a13-d647-483f-b296-29d2e30c2ac5",
   "metadata": {},
   "outputs": [],
   "source": [
    "vaccs = pd.concat([X_test, \n",
    "                  pd.Series(XGBRegressor(\n",
    "                            n_estimators = int(best['n_estimators']),\n",
    "                            eta = best['eta'],\n",
    "                            max_depth = int(best['max_depth']),\n",
    "                            min_child_weight = best['min_child_weight'],\n",
    "                            subsample = best['subsample'],\n",
    "                            gamma = best['gamma'],\n",
    "                            reg_alpha = best['alpha'],\n",
    "                            reg_lambda = best['lambda']\n",
    "                        ).fit(X_train, y_train).predict(X_test), name='predicts', index=X_test.index),\n",
    "                  y_test\n",
    "                 ], axis=1)"
   ]
  },
  {
   "cell_type": "code",
   "execution_count": 37,
   "id": "113e2d73-88b7-4600-b4d4-9215d9941f0e",
   "metadata": {},
   "outputs": [],
   "source": [
    "vaccs2 = pd.concat([X_test, \n",
    "                  pd.Series(XGBRegressor().fit(X_train, y_train).predict(X_test), name='predicts', index=X_test.index),\n",
    "                  y_test\n",
    "                 ], axis=1)\n",
    "vaccs2 = vaccs2.sort_values('vaccination_rate')"
   ]
  },
  {
   "cell_type": "code",
   "execution_count": 38,
   "id": "3f2d9217-0fc5-41c2-911d-ef32a2359cba",
   "metadata": {},
   "outputs": [
    {
     "data": {
      "text/plain": [
       "density             0\n",
       "area                0\n",
       "neighbor_density    0\n",
       "case_peak_ratio     0\n",
       "predicts            0\n",
       "vaccination_rate    0\n",
       "dtype: int64"
      ]
     },
     "execution_count": 38,
     "metadata": {},
     "output_type": "execute_result"
    }
   ],
   "source": [
    "vaccs.isna().sum()"
   ]
  },
  {
   "cell_type": "code",
   "execution_count": 39,
   "id": "5db9b6ec-e1fb-4fa2-9a14-02ab7c46cf15",
   "metadata": {},
   "outputs": [],
   "source": [
    "vaccs['baseline'] = np.full(y_test.shape[0], y_train.mean())"
   ]
  },
  {
   "cell_type": "code",
   "execution_count": 40,
   "id": "0b320252-0a25-4fe0-8404-bf7b0ee8a1d9",
   "metadata": {},
   "outputs": [
    {
     "data": {
      "text/html": [
       "<div>\n",
       "<style scoped>\n",
       "    .dataframe tbody tr th:only-of-type {\n",
       "        vertical-align: middle;\n",
       "    }\n",
       "\n",
       "    .dataframe tbody tr th {\n",
       "        vertical-align: top;\n",
       "    }\n",
       "\n",
       "    .dataframe thead th {\n",
       "        text-align: right;\n",
       "    }\n",
       "</style>\n",
       "<table border=\"1\" class=\"dataframe\">\n",
       "  <thead>\n",
       "    <tr style=\"text-align: right;\">\n",
       "      <th></th>\n",
       "      <th>density</th>\n",
       "      <th>area</th>\n",
       "      <th>neighbor_density</th>\n",
       "      <th>case_peak_ratio</th>\n",
       "      <th>predicts</th>\n",
       "      <th>vaccination_rate</th>\n",
       "      <th>baseline</th>\n",
       "    </tr>\n",
       "  </thead>\n",
       "  <tbody>\n",
       "    <tr>\n",
       "      <th>count</th>\n",
       "      <td>991.000000</td>\n",
       "      <td>991.000000</td>\n",
       "      <td>991.000000</td>\n",
       "      <td>991.000000</td>\n",
       "      <td>991.000000</td>\n",
       "      <td>991.000000</td>\n",
       "      <td>9.910000e+02</td>\n",
       "    </tr>\n",
       "    <tr>\n",
       "      <th>mean</th>\n",
       "      <td>0.048470</td>\n",
       "      <td>-0.016455</td>\n",
       "      <td>0.070122</td>\n",
       "      <td>-0.013967</td>\n",
       "      <td>0.410850</td>\n",
       "      <td>0.416053</td>\n",
       "      <td>4.083050e-01</td>\n",
       "    </tr>\n",
       "    <tr>\n",
       "      <th>std</th>\n",
       "      <td>0.990919</td>\n",
       "      <td>0.977586</td>\n",
       "      <td>0.989681</td>\n",
       "      <td>0.988535</td>\n",
       "      <td>0.058251</td>\n",
       "      <td>0.105902</td>\n",
       "      <td>2.832498e-15</td>\n",
       "    </tr>\n",
       "    <tr>\n",
       "      <th>min</th>\n",
       "      <td>-2.983492</td>\n",
       "      <td>-6.675450</td>\n",
       "      <td>-3.039883</td>\n",
       "      <td>-3.460294</td>\n",
       "      <td>0.258954</td>\n",
       "      <td>0.024000</td>\n",
       "      <td>4.083050e-01</td>\n",
       "    </tr>\n",
       "    <tr>\n",
       "      <th>25%</th>\n",
       "      <td>-0.475908</td>\n",
       "      <td>-0.485234</td>\n",
       "      <td>-0.512468</td>\n",
       "      <td>-0.609573</td>\n",
       "      <td>0.368008</td>\n",
       "      <td>0.340500</td>\n",
       "      <td>4.083050e-01</td>\n",
       "    </tr>\n",
       "    <tr>\n",
       "      <th>50%</th>\n",
       "      <td>0.008624</td>\n",
       "      <td>-0.040287</td>\n",
       "      <td>0.063876</td>\n",
       "      <td>0.054884</td>\n",
       "      <td>0.396801</td>\n",
       "      <td>0.401000</td>\n",
       "      <td>4.083050e-01</td>\n",
       "    </tr>\n",
       "    <tr>\n",
       "      <th>75%</th>\n",
       "      <td>0.611146</td>\n",
       "      <td>0.409949</td>\n",
       "      <td>0.645115</td>\n",
       "      <td>0.668256</td>\n",
       "      <td>0.444797</td>\n",
       "      <td>0.476000</td>\n",
       "      <td>4.083050e-01</td>\n",
       "    </tr>\n",
       "    <tr>\n",
       "      <th>max</th>\n",
       "      <td>3.880742</td>\n",
       "      <td>3.904859</td>\n",
       "      <td>4.443778</td>\n",
       "      <td>2.941752</td>\n",
       "      <td>0.597203</td>\n",
       "      <td>0.787000</td>\n",
       "      <td>4.083050e-01</td>\n",
       "    </tr>\n",
       "  </tbody>\n",
       "</table>\n",
       "</div>"
      ],
      "text/plain": [
       "          density        area  neighbor_density  case_peak_ratio    predicts  \\\n",
       "count  991.000000  991.000000        991.000000       991.000000  991.000000   \n",
       "mean     0.048470   -0.016455          0.070122        -0.013967    0.410850   \n",
       "std      0.990919    0.977586          0.989681         0.988535    0.058251   \n",
       "min     -2.983492   -6.675450         -3.039883        -3.460294    0.258954   \n",
       "25%     -0.475908   -0.485234         -0.512468        -0.609573    0.368008   \n",
       "50%      0.008624   -0.040287          0.063876         0.054884    0.396801   \n",
       "75%      0.611146    0.409949          0.645115         0.668256    0.444797   \n",
       "max      3.880742    3.904859          4.443778         2.941752    0.597203   \n",
       "\n",
       "       vaccination_rate      baseline  \n",
       "count        991.000000  9.910000e+02  \n",
       "mean           0.416053  4.083050e-01  \n",
       "std            0.105902  2.832498e-15  \n",
       "min            0.024000  4.083050e-01  \n",
       "25%            0.340500  4.083050e-01  \n",
       "50%            0.401000  4.083050e-01  \n",
       "75%            0.476000  4.083050e-01  \n",
       "max            0.787000  4.083050e-01  "
      ]
     },
     "execution_count": 40,
     "metadata": {},
     "output_type": "execute_result"
    }
   ],
   "source": [
    "vaccs.describe()"
   ]
  },
  {
   "cell_type": "code",
   "execution_count": 41,
   "id": "5c721053-fba7-4eef-a8cb-783bc5cc9114",
   "metadata": {},
   "outputs": [],
   "source": [
    "vaccs = vaccs.sort_values('vaccination_rate')"
   ]
  },
  {
   "cell_type": "code",
   "execution_count": 42,
   "id": "e5d8998d-56ef-48ef-97d8-5817aff69aaf",
   "metadata": {},
   "outputs": [
    {
     "data": {
      "text/plain": [
       "[<matplotlib.lines.Line2D at 0x2044a0ef5e0>]"
      ]
     },
     "execution_count": 42,
     "metadata": {},
     "output_type": "execute_result"
    },
    {
     "data": {
      "image/png": "[encoded data removed]",
      "text/plain": [
       "<Figure size 1440x720 with 1 Axes>"
      ]
     },
     "metadata": {
      "needs_background": "light"
     },
     "output_type": "display_data"
    }
   ],
   "source": [
    "plt.figure(figsize=(20,10))\n",
    "plt.plot(vaccs['vaccination_rate'])\n",
    "plt.plot(vaccs['baseline'])\n",
    "plt.plot(vaccs['predicts'], marker='.', linestyle='None')"
   ]
  },
  {
   "cell_type": "code",
   "execution_count": 43,
   "id": "7013bed6-3667-46ae-a5ab-9dc79d15f9c5",
   "metadata": {},
   "outputs": [
    {
     "data": {
      "text/plain": [
       "[<matplotlib.lines.Line2D at 0x2044e8f8760>]"
      ]
     },
     "execution_count": 43,
     "metadata": {},
     "output_type": "execute_result"
    },
    {
     "data": {
      "image/png": "[encoded data removed]",
      "text/plain": [
       "<Figure size 1440x720 with 1 Axes>"
      ]
     },
     "metadata": {
      "needs_background": "light"
     },
     "output_type": "display_data"
    }
   ],
   "source": [
    "plt.figure(figsize=(20,10))\n",
    "plt.plot(vaccs2['vaccination_rate'])\n",
    "plt.plot(vaccs2['predicts'], marker='.', linestyle='None')\n",
    "\n",
    "# Looking at the hyperopt params vs the off-the-shelf params, we see hyperopt puts an artificial minimum on many values\n",
    "# Need to look into this later"
   ]
  }
 ],
 "metadata": {
  "kernelspec": {
   "display_name": "Python 3",
   "language": "python",
   "name": "python3"
  },
  "language_info": {
   "codemirror_mode": {
    "name": "ipython",
    "version": 3
   },
   "file_extension": ".py",
   "mimetype": "text/x-python",
   "name": "python",
   "nbconvert_exporter": "python",
   "pygments_lexer": "ipython3",
   "version": "3.8.5"
  },
  "toc-showtags": false
 },
 "nbformat": 4,
 "nbformat_minor": 5
}
