{
 "cells": [
  {
   "cell_type": "code",
   "execution_count": 3,
   "metadata": {},
   "outputs": [],
   "source": [
    "import pandas as pd\n",
    "import numpy as np"
   ]
  },
  {
   "cell_type": "markdown",
   "metadata": {},
   "source": [
    "# This notebook is old junk analysis"
   ]
  },
  {
   "cell_type": "code",
   "execution_count": 4,
   "metadata": {},
   "outputs": [],
   "source": [
    "path = 'data/CDCdata/COVID-19_Case_Surveillance_Public_Use_Data_with_Geography.csv'\n",
    "chunksize=250000"
   ]
  },
  {
   "cell_type": "markdown",
   "metadata": {},
   "source": [
    "## What are the possible values of current_status from testing data?\n",
    "* We see below there are only two values -- laboratory confirmed and probable -- and no missing values.\n",
    "* Probable status is only 10% of cases.\n",
    "\n",
    "**Thus we consider all records from this dataset to be positive cases for Covid 19**"
   ]
  },
  {
   "cell_type": "code",
   "execution_count": null,
   "metadata": {},
   "outputs": [],
   "source": [
    "# What are the possible statuses of test?\n",
    "raw_iter = pd.read_csv(path, chunksize=chunksize)\n",
    "\n",
    "status_counts = pd.Series(dtype='float')\n",
    "for chunk in raw_iter:\n",
    "    status_counts = status_counts.combine(chunk.current_status.value_counts(), np.add, fill_value=0)\n",
    "\n",
    "status_counts\n",
    "\n",
    "# laboratory confirmed and probable\n",
    "# We also assume current_status means test result"
   ]
  },
  {
   "cell_type": "code",
   "execution_count": 38,
   "metadata": {
    "scrolled": true
   },
   "outputs": [
    {
     "data": {
      "text/plain": [
       "0"
      ]
     },
     "execution_count": 38,
     "metadata": {},
     "output_type": "execute_result"
    }
   ],
   "source": [
    "# Are there any missing test results?\n",
    "raw_iter = pd.read_csv(path, chunksize=chunksize)\n",
    "\n",
    "nan_count = 0\n",
    "for chunk in raw_iter:\n",
    "    nan_count = chunk['current_status'].isna().sum()\n",
    "\n",
    "nan_count\n",
    "\n",
    "# No"
   ]
  },
  {
   "cell_type": "markdown",
   "metadata": {},
   "source": [
    "## What data will we collect from each chunk?"
   ]
  },
  {
   "cell_type": "code",
   "execution_count": 116,
   "metadata": {},
   "outputs": [],
   "source": [
    "# Look deeper into a single chunk\n",
    "chunk = next(raw_iter)"
   ]
  },
  {
   "cell_type": "code",
   "execution_count": 53,
   "metadata": {},
   "outputs": [
    {
     "name": "stdout",
     "output_type": "stream",
     "text": [
      "<class 'pandas.core.frame.DataFrame'>\n",
      "RangeIndex: 250000 entries, 0 to 249999\n",
      "Data columns (total 19 columns):\n",
      " #   Column                           Non-Null Count   Dtype  \n",
      "---  ------                           --------------   -----  \n",
      " 0   case_month                       250000 non-null  object \n",
      " 1   res_state                        250000 non-null  object \n",
      " 2   state_fips_code                  250000 non-null  int64  \n",
      " 3   res_county                       249182 non-null  object \n",
      " 4   county_fips_code                 249182 non-null  float64\n",
      " 5   age_group                        237646 non-null  object \n",
      " 6   sex                              208438 non-null  object \n",
      " 7   race                             136223 non-null  object \n",
      " 8   ethnicity                        117317 non-null  object \n",
      " 9   case_positive_specimen_interval  81345 non-null   float64\n",
      " 10  case_onset_interval              123475 non-null  float64\n",
      " 11  process                          250000 non-null  object \n",
      " 12  exposure_yn                      250000 non-null  object \n",
      " 13  current_status                   250000 non-null  object \n",
      " 14  symptom_status                   250000 non-null  object \n",
      " 15  hosp_yn                          250000 non-null  object \n",
      " 16  icu_yn                           250000 non-null  object \n",
      " 17  death_yn                         208625 non-null  object \n",
      " 18  underlying_conditions_yn         19397 non-null   object \n",
      "dtypes: float64(3), int64(1), object(15)\n",
      "memory usage: 36.2+ MB\n"
     ]
    }
   ],
   "source": [
    "chunk.info()"
   ]
  },
  {
   "cell_type": "code",
   "execution_count": 42,
   "metadata": {},
   "outputs": [
    {
     "data": {
      "text/html": [
       "<div>\n",
       "<style scoped>\n",
       "    .dataframe tbody tr th:only-of-type {\n",
       "        vertical-align: middle;\n",
       "    }\n",
       "\n",
       "    .dataframe tbody tr th {\n",
       "        vertical-align: top;\n",
       "    }\n",
       "\n",
       "    .dataframe thead th {\n",
       "        text-align: right;\n",
       "    }\n",
       "</style>\n",
       "<table border=\"1\" class=\"dataframe\">\n",
       "  <thead>\n",
       "    <tr style=\"text-align: right;\">\n",
       "      <th></th>\n",
       "      <th>case_month</th>\n",
       "      <th>res_state</th>\n",
       "      <th>state_fips_code</th>\n",
       "      <th>res_county</th>\n",
       "      <th>county_fips_code</th>\n",
       "      <th>age_group</th>\n",
       "      <th>sex</th>\n",
       "      <th>race</th>\n",
       "      <th>ethnicity</th>\n",
       "      <th>case_positive_specimen_interval</th>\n",
       "      <th>case_onset_interval</th>\n",
       "      <th>process</th>\n",
       "      <th>exposure_yn</th>\n",
       "      <th>current_status</th>\n",
       "      <th>symptom_status</th>\n",
       "      <th>hosp_yn</th>\n",
       "      <th>icu_yn</th>\n",
       "      <th>death_yn</th>\n",
       "      <th>underlying_conditions_yn</th>\n",
       "    </tr>\n",
       "  </thead>\n",
       "  <tbody>\n",
       "    <tr>\n",
       "      <th>0</th>\n",
       "      <td>2020-12</td>\n",
       "      <td>MN</td>\n",
       "      <td>27</td>\n",
       "      <td>DODGE</td>\n",
       "      <td>27039.0</td>\n",
       "      <td>18 to 49 years</td>\n",
       "      <td>NaN</td>\n",
       "      <td>NaN</td>\n",
       "      <td>NaN</td>\n",
       "      <td>-1.0</td>\n",
       "      <td>0.0</td>\n",
       "      <td>Missing</td>\n",
       "      <td>Missing</td>\n",
       "      <td>Laboratory-confirmed case</td>\n",
       "      <td>Symptomatic</td>\n",
       "      <td>Missing</td>\n",
       "      <td>Missing</td>\n",
       "      <td>No</td>\n",
       "      <td>NaN</td>\n",
       "    </tr>\n",
       "    <tr>\n",
       "      <th>1</th>\n",
       "      <td>2020-11</td>\n",
       "      <td>MI</td>\n",
       "      <td>26</td>\n",
       "      <td>GLADWIN</td>\n",
       "      <td>26051.0</td>\n",
       "      <td>18 to 49 years</td>\n",
       "      <td>NaN</td>\n",
       "      <td>NaN</td>\n",
       "      <td>NaN</td>\n",
       "      <td>NaN</td>\n",
       "      <td>NaN</td>\n",
       "      <td>Missing</td>\n",
       "      <td>Missing</td>\n",
       "      <td>Laboratory-confirmed case</td>\n",
       "      <td>Missing</td>\n",
       "      <td>Missing</td>\n",
       "      <td>Missing</td>\n",
       "      <td>Unknown</td>\n",
       "      <td>NaN</td>\n",
       "    </tr>\n",
       "    <tr>\n",
       "      <th>2</th>\n",
       "      <td>2021-04</td>\n",
       "      <td>VT</td>\n",
       "      <td>50</td>\n",
       "      <td>ORLEANS</td>\n",
       "      <td>50019.0</td>\n",
       "      <td>18 to 49 years</td>\n",
       "      <td>NaN</td>\n",
       "      <td>NaN</td>\n",
       "      <td>NaN</td>\n",
       "      <td>0.0</td>\n",
       "      <td>0.0</td>\n",
       "      <td>Multiple</td>\n",
       "      <td>Yes</td>\n",
       "      <td>Laboratory-confirmed case</td>\n",
       "      <td>Symptomatic</td>\n",
       "      <td>No</td>\n",
       "      <td>Missing</td>\n",
       "      <td>NaN</td>\n",
       "      <td>Yes</td>\n",
       "    </tr>\n",
       "    <tr>\n",
       "      <th>3</th>\n",
       "      <td>2020-11</td>\n",
       "      <td>AL</td>\n",
       "      <td>1</td>\n",
       "      <td>LIMESTONE</td>\n",
       "      <td>1083.0</td>\n",
       "      <td>0 - 17 years</td>\n",
       "      <td>Female</td>\n",
       "      <td>Missing</td>\n",
       "      <td>Missing</td>\n",
       "      <td>NaN</td>\n",
       "      <td>NaN</td>\n",
       "      <td>Missing</td>\n",
       "      <td>Missing</td>\n",
       "      <td>Laboratory-confirmed case</td>\n",
       "      <td>Missing</td>\n",
       "      <td>Missing</td>\n",
       "      <td>Missing</td>\n",
       "      <td>Missing</td>\n",
       "      <td>NaN</td>\n",
       "    </tr>\n",
       "    <tr>\n",
       "      <th>4</th>\n",
       "      <td>2021-01</td>\n",
       "      <td>NY</td>\n",
       "      <td>36</td>\n",
       "      <td>SCHOHARIE</td>\n",
       "      <td>36095.0</td>\n",
       "      <td>0 - 17 years</td>\n",
       "      <td>Female</td>\n",
       "      <td>NaN</td>\n",
       "      <td>NaN</td>\n",
       "      <td>0.0</td>\n",
       "      <td>NaN</td>\n",
       "      <td>Missing</td>\n",
       "      <td>Missing</td>\n",
       "      <td>Laboratory-confirmed case</td>\n",
       "      <td>Missing</td>\n",
       "      <td>Missing</td>\n",
       "      <td>Missing</td>\n",
       "      <td>No</td>\n",
       "      <td>NaN</td>\n",
       "    </tr>\n",
       "    <tr>\n",
       "      <th>...</th>\n",
       "      <td>...</td>\n",
       "      <td>...</td>\n",
       "      <td>...</td>\n",
       "      <td>...</td>\n",
       "      <td>...</td>\n",
       "      <td>...</td>\n",
       "      <td>...</td>\n",
       "      <td>...</td>\n",
       "      <td>...</td>\n",
       "      <td>...</td>\n",
       "      <td>...</td>\n",
       "      <td>...</td>\n",
       "      <td>...</td>\n",
       "      <td>...</td>\n",
       "      <td>...</td>\n",
       "      <td>...</td>\n",
       "      <td>...</td>\n",
       "      <td>...</td>\n",
       "      <td>...</td>\n",
       "    </tr>\n",
       "    <tr>\n",
       "      <th>249995</th>\n",
       "      <td>2020-12</td>\n",
       "      <td>KY</td>\n",
       "      <td>21</td>\n",
       "      <td>BULLITT</td>\n",
       "      <td>21029.0</td>\n",
       "      <td>65+ years</td>\n",
       "      <td>Female</td>\n",
       "      <td>White</td>\n",
       "      <td>Non-Hispanic/Latino</td>\n",
       "      <td>NaN</td>\n",
       "      <td>NaN</td>\n",
       "      <td>Missing</td>\n",
       "      <td>Missing</td>\n",
       "      <td>Laboratory-confirmed case</td>\n",
       "      <td>Missing</td>\n",
       "      <td>No</td>\n",
       "      <td>Missing</td>\n",
       "      <td>No</td>\n",
       "      <td>NaN</td>\n",
       "    </tr>\n",
       "    <tr>\n",
       "      <th>249996</th>\n",
       "      <td>2020-12</td>\n",
       "      <td>WI</td>\n",
       "      <td>55</td>\n",
       "      <td>GREEN</td>\n",
       "      <td>55045.0</td>\n",
       "      <td>65+ years</td>\n",
       "      <td>Female</td>\n",
       "      <td>White</td>\n",
       "      <td>Non-Hispanic/Latino</td>\n",
       "      <td>NaN</td>\n",
       "      <td>0.0</td>\n",
       "      <td>Missing</td>\n",
       "      <td>Missing</td>\n",
       "      <td>Laboratory-confirmed case</td>\n",
       "      <td>Symptomatic</td>\n",
       "      <td>Yes</td>\n",
       "      <td>Missing</td>\n",
       "      <td>NaN</td>\n",
       "      <td>NaN</td>\n",
       "    </tr>\n",
       "    <tr>\n",
       "      <th>249997</th>\n",
       "      <td>2021-01</td>\n",
       "      <td>NY</td>\n",
       "      <td>36</td>\n",
       "      <td>ONTARIO</td>\n",
       "      <td>36069.0</td>\n",
       "      <td>65+ years</td>\n",
       "      <td>Female</td>\n",
       "      <td>White</td>\n",
       "      <td>Non-Hispanic/Latino</td>\n",
       "      <td>0.0</td>\n",
       "      <td>NaN</td>\n",
       "      <td>Missing</td>\n",
       "      <td>Missing</td>\n",
       "      <td>Laboratory-confirmed case</td>\n",
       "      <td>Missing</td>\n",
       "      <td>Missing</td>\n",
       "      <td>Missing</td>\n",
       "      <td>No</td>\n",
       "      <td>NaN</td>\n",
       "    </tr>\n",
       "    <tr>\n",
       "      <th>249998</th>\n",
       "      <td>2020-10</td>\n",
       "      <td>MT</td>\n",
       "      <td>30</td>\n",
       "      <td>SILVER BOW</td>\n",
       "      <td>30093.0</td>\n",
       "      <td>65+ years</td>\n",
       "      <td>Female</td>\n",
       "      <td>White</td>\n",
       "      <td>Non-Hispanic/Latino</td>\n",
       "      <td>NaN</td>\n",
       "      <td>NaN</td>\n",
       "      <td>Missing</td>\n",
       "      <td>Missing</td>\n",
       "      <td>Laboratory-confirmed case</td>\n",
       "      <td>Missing</td>\n",
       "      <td>Unknown</td>\n",
       "      <td>Missing</td>\n",
       "      <td>NaN</td>\n",
       "      <td>NaN</td>\n",
       "    </tr>\n",
       "    <tr>\n",
       "      <th>249999</th>\n",
       "      <td>2020-12</td>\n",
       "      <td>MI</td>\n",
       "      <td>26</td>\n",
       "      <td>GRATIOT</td>\n",
       "      <td>26057.0</td>\n",
       "      <td>18 to 49 years</td>\n",
       "      <td>Male</td>\n",
       "      <td>White</td>\n",
       "      <td>Non-Hispanic/Latino</td>\n",
       "      <td>NaN</td>\n",
       "      <td>NaN</td>\n",
       "      <td>Missing</td>\n",
       "      <td>Missing</td>\n",
       "      <td>Laboratory-confirmed case</td>\n",
       "      <td>Missing</td>\n",
       "      <td>No</td>\n",
       "      <td>Missing</td>\n",
       "      <td>No</td>\n",
       "      <td>NaN</td>\n",
       "    </tr>\n",
       "  </tbody>\n",
       "</table>\n",
       "<p>250000 rows × 19 columns</p>\n",
       "</div>"
      ],
      "text/plain": [
       "       case_month res_state  state_fips_code  res_county  county_fips_code  \\\n",
       "0         2020-12        MN               27       DODGE           27039.0   \n",
       "1         2020-11        MI               26     GLADWIN           26051.0   \n",
       "2         2021-04        VT               50     ORLEANS           50019.0   \n",
       "3         2020-11        AL                1   LIMESTONE            1083.0   \n",
       "4         2021-01        NY               36   SCHOHARIE           36095.0   \n",
       "...           ...       ...              ...         ...               ...   \n",
       "249995    2020-12        KY               21     BULLITT           21029.0   \n",
       "249996    2020-12        WI               55       GREEN           55045.0   \n",
       "249997    2021-01        NY               36     ONTARIO           36069.0   \n",
       "249998    2020-10        MT               30  SILVER BOW           30093.0   \n",
       "249999    2020-12        MI               26     GRATIOT           26057.0   \n",
       "\n",
       "             age_group     sex     race            ethnicity  \\\n",
       "0       18 to 49 years     NaN      NaN                  NaN   \n",
       "1       18 to 49 years     NaN      NaN                  NaN   \n",
       "2       18 to 49 years     NaN      NaN                  NaN   \n",
       "3         0 - 17 years  Female  Missing              Missing   \n",
       "4         0 - 17 years  Female      NaN                  NaN   \n",
       "...                ...     ...      ...                  ...   \n",
       "249995       65+ years  Female    White  Non-Hispanic/Latino   \n",
       "249996       65+ years  Female    White  Non-Hispanic/Latino   \n",
       "249997       65+ years  Female    White  Non-Hispanic/Latino   \n",
       "249998       65+ years  Female    White  Non-Hispanic/Latino   \n",
       "249999  18 to 49 years    Male    White  Non-Hispanic/Latino   \n",
       "\n",
       "        case_positive_specimen_interval  case_onset_interval   process  \\\n",
       "0                                  -1.0                  0.0   Missing   \n",
       "1                                   NaN                  NaN   Missing   \n",
       "2                                   0.0                  0.0  Multiple   \n",
       "3                                   NaN                  NaN   Missing   \n",
       "4                                   0.0                  NaN   Missing   \n",
       "...                                 ...                  ...       ...   \n",
       "249995                              NaN                  NaN   Missing   \n",
       "249996                              NaN                  0.0   Missing   \n",
       "249997                              0.0                  NaN   Missing   \n",
       "249998                              NaN                  NaN   Missing   \n",
       "249999                              NaN                  NaN   Missing   \n",
       "\n",
       "       exposure_yn             current_status symptom_status  hosp_yn  \\\n",
       "0          Missing  Laboratory-confirmed case    Symptomatic  Missing   \n",
       "1          Missing  Laboratory-confirmed case        Missing  Missing   \n",
       "2              Yes  Laboratory-confirmed case    Symptomatic       No   \n",
       "3          Missing  Laboratory-confirmed case        Missing  Missing   \n",
       "4          Missing  Laboratory-confirmed case        Missing  Missing   \n",
       "...            ...                        ...            ...      ...   \n",
       "249995     Missing  Laboratory-confirmed case        Missing       No   \n",
       "249996     Missing  Laboratory-confirmed case    Symptomatic      Yes   \n",
       "249997     Missing  Laboratory-confirmed case        Missing  Missing   \n",
       "249998     Missing  Laboratory-confirmed case        Missing  Unknown   \n",
       "249999     Missing  Laboratory-confirmed case        Missing       No   \n",
       "\n",
       "         icu_yn death_yn underlying_conditions_yn  \n",
       "0       Missing       No                      NaN  \n",
       "1       Missing  Unknown                      NaN  \n",
       "2       Missing      NaN                      Yes  \n",
       "3       Missing  Missing                      NaN  \n",
       "4       Missing       No                      NaN  \n",
       "...         ...      ...                      ...  \n",
       "249995  Missing       No                      NaN  \n",
       "249996  Missing      NaN                      NaN  \n",
       "249997  Missing       No                      NaN  \n",
       "249998  Missing      NaN                      NaN  \n",
       "249999  Missing       No                      NaN  \n",
       "\n",
       "[250000 rows x 19 columns]"
      ]
     },
     "execution_count": 42,
     "metadata": {},
     "output_type": "execute_result"
    }
   ],
   "source": [
    "chunk"
   ]
  },
  {
   "cell_type": "code",
   "execution_count": 1,
   "metadata": {},
   "outputs": [
    {
     "ename": "NameError",
     "evalue": "name 'chunk' is not defined",
     "output_type": "error",
     "traceback": [
      "\u001b[1;31m---------------------------------------------------------------------------\u001b[0m",
      "\u001b[1;31mNameError\u001b[0m                                 Traceback (most recent call last)",
      "\u001b[1;32m<ipython-input-1-c1c6a1c45d28>\u001b[0m in \u001b[0;36m<module>\u001b[1;34m\u001b[0m\n\u001b[0;32m      1\u001b[0m \u001b[1;31m# Oops, lot of 'Missing' values... meaning NaN, right? Also, FIPS should be a string.\u001b[0m\u001b[1;33m\u001b[0m\u001b[1;33m\u001b[0m\u001b[1;33m\u001b[0m\u001b[0m\n\u001b[1;32m----> 2\u001b[1;33m \u001b[0mchunk\u001b[0m \u001b[1;33m=\u001b[0m \u001b[0mchunk\u001b[0m\u001b[1;33m.\u001b[0m\u001b[0mreplace\u001b[0m\u001b[1;33m(\u001b[0m\u001b[1;34m'Missing'\u001b[0m\u001b[1;33m,\u001b[0m \u001b[0mnp\u001b[0m\u001b[1;33m.\u001b[0m\u001b[0mnan\u001b[0m\u001b[1;33m)\u001b[0m\u001b[1;33m\u001b[0m\u001b[1;33m\u001b[0m\u001b[0m\n\u001b[0m\u001b[0;32m      3\u001b[0m \u001b[1;33m\u001b[0m\u001b[0m\n\u001b[0;32m      4\u001b[0m \u001b[1;31m# And let's fix month column too\u001b[0m\u001b[1;33m\u001b[0m\u001b[1;33m\u001b[0m\u001b[1;33m\u001b[0m\u001b[0m\n\u001b[0;32m      5\u001b[0m \u001b[0mchunk\u001b[0m\u001b[1;33m[\u001b[0m\u001b[1;34m'case_month'\u001b[0m\u001b[1;33m]\u001b[0m \u001b[1;33m=\u001b[0m \u001b[0mpd\u001b[0m\u001b[1;33m.\u001b[0m\u001b[0mto_datetime\u001b[0m\u001b[1;33m(\u001b[0m\u001b[0mchunk\u001b[0m\u001b[1;33m[\u001b[0m\u001b[1;34m'case_month'\u001b[0m\u001b[1;33m]\u001b[0m\u001b[1;33m,\u001b[0m \u001b[0mformat\u001b[0m\u001b[1;33m=\u001b[0m\u001b[1;34m'%Y-%m'\u001b[0m\u001b[1;33m)\u001b[0m\u001b[1;33m.\u001b[0m\u001b[0mdt\u001b[0m\u001b[1;33m.\u001b[0m\u001b[0mto_period\u001b[0m\u001b[1;33m(\u001b[0m\u001b[1;34m'M'\u001b[0m\u001b[1;33m)\u001b[0m\u001b[1;33m\u001b[0m\u001b[1;33m\u001b[0m\u001b[0m\n",
      "\u001b[1;31mNameError\u001b[0m: name 'chunk' is not defined"
     ]
    }
   ],
   "source": [
    "# Oops, lot of 'Missing' values... meaning NaN, right? Also, FIPS should be a string.\n",
    "chunk = chunk.replace('Missing', np.nan)\n",
    "\n",
    "# And let's fix month column too\n",
    "chunk['case_month'] = pd.to_datetime(chunk['case_month'], format='%Y-%m').dt.to_period('M')\n",
    "chunk.info()\n",
    "\n",
    "# It's tempting to use the hops, icu, and death statistics, but it seem half that data wasn't recorded, so we ignore."
   ]
  },
  {
   "cell_type": "code",
   "execution_count": 74,
   "metadata": {},
   "outputs": [
    {
     "data": {
      "text/plain": [
       "case_month  res_state\n",
       "2020-03-01  IN           11\n",
       "2020-05-01  AZ           25\n",
       "            MD           21\n",
       "2020-06-01  AZ           12\n",
       "2020-07-01  AZ           12\n",
       "            GA           66\n",
       "            IN           28\n",
       "2020-09-01  IL           13\n",
       "            PA           11\n",
       "2020-10-01  IN           41\n",
       "            MD           18\n",
       "            PA           49\n",
       "2020-11-01  AZ           36\n",
       "            GA           16\n",
       "            IL           26\n",
       "            IN           11\n",
       "            MD           10\n",
       "2020-12-01  AZ           13\n",
       "            IL           43\n",
       "            IN           54\n",
       "            PA           14\n",
       "2021-01-01  AZ           12\n",
       "            IN           19\n",
       "            MD           29\n",
       "            PA           38\n",
       "2021-02-01  AZ           23\n",
       "            MD           18\n",
       "            PA           12\n",
       "2021-03-01  AZ           16\n",
       "            MD           18\n",
       "2021-04-01  MD           49\n",
       "            PA           21\n",
       "2021-05-01  PA           18\n",
       "2021-07-01  AZ           15\n",
       "Name: res_state, dtype: int64"
      ]
     },
     "execution_count": 74,
     "metadata": {},
     "output_type": "execute_result"
    }
   ],
   "source": [
    "# We presumedly cannot use the 800+ cases with missing counties (as each needs a county to find local hospitalizations).\n",
    "# Sanity check though: How spread out are they (are they concentrated in a particular state/month, e.g.)?\n",
    "chunk[chunk['county_fips_code'].isna()].groupby(['case_month'])['res_state'].value_counts().sort_index()\n",
    "\n",
    "# Some states seem a little more negiligent than others, but thery are spread out on the calendar pretty well"
   ]
  },
  {
   "cell_type": "code",
   "execution_count": 118,
   "metadata": {},
   "outputs": [
    {
     "data": {
      "text/plain": [
       "FIPS   month     \n",
       "01001  2020-09-01    14\n",
       "       2020-10-01    20\n",
       "       2020-11-01    56\n",
       "       2021-01-01    17\n",
       "       2021-02-01    15\n",
       "                     ..\n",
       "55141  2020-10-01    14\n",
       "       2020-11-01    36\n",
       "       2020-12-01    11\n",
       "       2021-01-01    71\n",
       "       2021-02-01    13\n",
       "Name: case_count, Length: 9231, dtype: int64"
      ]
     },
     "execution_count": 118,
     "metadata": {},
     "output_type": "execute_result"
    }
   ],
   "source": [
    "# We basically want to capture the # of cases within each county during each unit of time\n",
    "# Specifically, county FIPS, case_month, case count\n",
    "\n",
    "# We'll just drop cases with NaN county codes (below)\n",
    "dropped_cases = chunk[chunk['county_fips_code'].isna()] # Save these for later\n",
    "chunk = chunk.drop(dropped_cases.index)\n",
    "\n",
    "# Convert county_fips_code to a string\n",
    "chunk['county_fips_code'] = chunk['county_fips_code'].astype(int).astype(str).str.zfill(5)\n",
    "\n",
    "# Create cases table\n",
    "cases = chunk.groupby(['county_fips_code', 'case_month'])['current_status'].count()\n",
    "cases.index = cases.index.rename(['FIPS', 'month'])\n",
    "cases.name = 'case_count'\n",
    "cases"
   ]
  },
  {
   "cell_type": "markdown",
   "metadata": {},
   "source": [
    "## Now to aggregate all the chunks"
   ]
  },
  {
   "cell_type": "code",
   "execution_count": 119,
   "metadata": {},
   "outputs": [],
   "source": [
    "def process_chunk(chunk):\n",
    "    chunk = chunk.replace('Missing', np.nan)\n",
    "    chunk['case_month'] = pd.to_datetime(chunk['case_month'], format='%Y-%m')\n",
    "    dropped_chunk = chunk[chunk['county_fips_code'].isna()]\n",
    "    chunk = chunk.drop(dropped_chunk.index)\n",
    "    chunk['county_fips_code'] = chunk['county_fips_code'].astype(int).astype(str).str.zfill(5)\n",
    "    \n",
    "    cases = chunk.groupby(['county_fips_code', 'case_month'])['current_status'].count()\n",
    "    cases.index = cases.index.rename(['FIPS', 'month'])\n",
    "    cases.name = 'case_count'\n",
    "    \n",
    "    dropped_cases = dropped_chunk.groupby(['res_state', 'case_month'])['current_status'].count()\n",
    "    dropped_cases.index = dropped_cases.index.rename(['state', 'month'])\n",
    "    dropped_cases.name = 'case_count'\n",
    "\n",
    "    return cases, dropped_cases"
   ]
  },
  {
   "cell_type": "code",
   "execution_count": 146,
   "metadata": {},
   "outputs": [],
   "source": [
    "# Reset the raw file\n",
    "chunksize = 250000\n",
    "raw_iter2 = pd.read_csv(path, chunksize=chunksize)"
   ]
  },
  {
   "cell_type": "code",
   "execution_count": 147,
   "metadata": {},
   "outputs": [
    {
     "name": "stderr",
     "output_type": "stream",
     "text": [
      "C:\\Users\\Michael\\anaconda3\\lib\\site-packages\\IPython\\core\\interactiveshell.py:3146: DtypeWarning: Columns (3) have mixed types.Specify dtype option on import or set low_memory=False.\n",
      "  has_raised = await self.run_ast_nodes(code_ast.body, cell_name,\n"
     ]
    }
   ],
   "source": [
    "cases = pd.DataFrame({'case_count': []}, index=pd.MultiIndex.from_arrays([[],[]], names=('FIPS', 'month')))\n",
    "dropped_cases = pd.DataFrame({'case_count': []}, index=pd.MultiIndex.from_arrays([[],[]], names=('state', 'month')))\n",
    "\n",
    "for chunk in raw_iter2:\n",
    "    new_cass, new_drpd_cass = process_chunk(chunk)\n",
    "    \n",
    "    cases = pd.merge(cases, new_cass, how='outer', on=['FIPS', 'month']).fillna(0.0, downcast='infer')\n",
    "    cases['case_count'] = cases['case_count_x'] + cases['case_count_y']\n",
    "    cases = cases.drop(['case_count_x', 'case_count_y'], axis=1)\n",
    "    \n",
    "    dropped_cases = pd.merge(dropped_cases, new_drpd_cass, how='outer', on=['state', 'month']).fillna(0.0, downcast='infer')\n",
    "    dropped_cases['case_count'] = dropped_cases['case_count_x'] + dropped_cases['case_count_y']\n",
    "    dropped_cases = dropped_cases.drop(['case_count_x', 'case_count_y'], axis=1)"
   ]
  },
  {
   "cell_type": "code",
   "execution_count": 148,
   "metadata": {},
   "outputs": [
    {
     "data": {
      "text/html": [
       "<div>\n",
       "<style scoped>\n",
       "    .dataframe tbody tr th:only-of-type {\n",
       "        vertical-align: middle;\n",
       "    }\n",
       "\n",
       "    .dataframe tbody tr th {\n",
       "        vertical-align: top;\n",
       "    }\n",
       "\n",
       "    .dataframe thead th {\n",
       "        text-align: right;\n",
       "    }\n",
       "</style>\n",
       "<table border=\"1\" class=\"dataframe\">\n",
       "  <thead>\n",
       "    <tr style=\"text-align: right;\">\n",
       "      <th></th>\n",
       "      <th></th>\n",
       "      <th>case_count</th>\n",
       "    </tr>\n",
       "    <tr>\n",
       "      <th>FIPS</th>\n",
       "      <th>month</th>\n",
       "      <th></th>\n",
       "    </tr>\n",
       "  </thead>\n",
       "  <tbody>\n",
       "    <tr>\n",
       "      <th rowspan=\"5\" valign=\"top\">01001</th>\n",
       "      <th>2020-09-01</th>\n",
       "      <td>331</td>\n",
       "    </tr>\n",
       "    <tr>\n",
       "      <th>2020-10-01</th>\n",
       "      <td>393</td>\n",
       "    </tr>\n",
       "    <tr>\n",
       "      <th>2020-11-01</th>\n",
       "      <td>733</td>\n",
       "    </tr>\n",
       "    <tr>\n",
       "      <th>2021-01-01</th>\n",
       "      <td>1499</td>\n",
       "    </tr>\n",
       "    <tr>\n",
       "      <th>2021-02-01</th>\n",
       "      <td>562</td>\n",
       "    </tr>\n",
       "    <tr>\n",
       "      <th>...</th>\n",
       "      <th>...</th>\n",
       "      <td>...</td>\n",
       "    </tr>\n",
       "    <tr>\n",
       "      <th>32003</th>\n",
       "      <th>2020-01-01</th>\n",
       "      <td>57</td>\n",
       "    </tr>\n",
       "    <tr>\n",
       "      <th>36081</th>\n",
       "      <th>2020-01-01</th>\n",
       "      <td>15</td>\n",
       "    </tr>\n",
       "    <tr>\n",
       "      <th>06071</th>\n",
       "      <th>2020-01-01</th>\n",
       "      <td>49</td>\n",
       "    </tr>\n",
       "    <tr>\n",
       "      <th>04013</th>\n",
       "      <th>2020-01-01</th>\n",
       "      <td>12</td>\n",
       "    </tr>\n",
       "    <tr>\n",
       "      <th>17031</th>\n",
       "      <th>2020-01-01</th>\n",
       "      <td>23</td>\n",
       "    </tr>\n",
       "  </tbody>\n",
       "</table>\n",
       "<p>24042 rows × 1 columns</p>\n",
       "</div>"
      ],
      "text/plain": [
       "                  case_count\n",
       "FIPS  month                 \n",
       "01001 2020-09-01         331\n",
       "      2020-10-01         393\n",
       "      2020-11-01         733\n",
       "      2021-01-01        1499\n",
       "      2021-02-01         562\n",
       "...                      ...\n",
       "32003 2020-01-01          57\n",
       "36081 2020-01-01          15\n",
       "06071 2020-01-01          49\n",
       "04013 2020-01-01          12\n",
       "17031 2020-01-01          23\n",
       "\n",
       "[24042 rows x 1 columns]"
      ]
     },
     "execution_count": 148,
     "metadata": {},
     "output_type": "execute_result"
    }
   ],
   "source": [
    "cases"
   ]
  },
  {
   "cell_type": "raw",
   "metadata": {},
   "source": [
    "# LET'S TURN THIS CELL OFF\n",
    "\n",
    "if os.path.exists('pickles/CDCpickles/cases.pkl'):\n",
    "    os.remove('pickles/CDCpickles/cases.pkl')\n",
    "cases.to_pickle('data/CDCpickles/cases.pkl')"
   ]
  },
  {
   "cell_type": "code",
   "execution_count": 149,
   "metadata": {},
   "outputs": [
    {
     "data": {
      "text/plain": [
       "case_count    26327514\n",
       "dtype: int64"
      ]
     },
     "execution_count": 149,
     "metadata": {},
     "output_type": "execute_result"
    }
   ],
   "source": [
    "cases.sum()"
   ]
  },
  {
   "cell_type": "code",
   "execution_count": 161,
   "metadata": {},
   "outputs": [
    {
     "name": "stdout",
     "output_type": "stream",
     "text": [
      "# of US cases: 26327514\n",
      "# of US counties reporting cases: 1530\n"
     ]
    }
   ],
   "source": [
    "print('# of US cases:', cases.sum()[0])\n",
    "print('# of US counties reporting cases:', cases.reset_index()['FIPS'].nunique())\n",
    "\n",
    "# Various new sources report the US has had 37M+ cases, so my source (with 26M+ cases) is likely lacking.\n",
    "# Furthermore, only 1530 out of 3108 counties in the US reported any cases to my source.\n",
    "\n",
    "# I think we only pursue hospitalization rates in the counties we feel confident about (if there are any!)."
   ]
  },
  {
   "cell_type": "markdown",
   "metadata": {},
   "source": [
    "## Further investigations follow, not essential"
   ]
  },
  {
   "cell_type": "code",
   "execution_count": 150,
   "metadata": {},
   "outputs": [
    {
     "data": {
      "text/plain": [
       "17    675\n",
       "16    282\n",
       "15    191\n",
       "14    109\n",
       "18     68\n",
       "13     62\n",
       "12     35\n",
       "19     34\n",
       "11     20\n",
       "6      11\n",
       "7      11\n",
       "9       7\n",
       "8       7\n",
       "10      5\n",
       "1       4\n",
       "4       3\n",
       "5       2\n",
       "3       2\n",
       "2       2\n",
       "Name: month, dtype: int64"
      ]
     },
     "execution_count": 150,
     "metadata": {},
     "output_type": "execute_result"
    }
   ],
   "source": [
    "cases.reset_index().groupby('FIPS')['month'].count().value_counts()"
   ]
  },
  {
   "cell_type": "code",
   "execution_count": 151,
   "metadata": {},
   "outputs": [
    {
     "data": {
      "text/html": [
       "<div>\n",
       "<style scoped>\n",
       "    .dataframe tbody tr th:only-of-type {\n",
       "        vertical-align: middle;\n",
       "    }\n",
       "\n",
       "    .dataframe tbody tr th {\n",
       "        vertical-align: top;\n",
       "    }\n",
       "\n",
       "    .dataframe thead th {\n",
       "        text-align: right;\n",
       "    }\n",
       "</style>\n",
       "<table border=\"1\" class=\"dataframe\">\n",
       "  <thead>\n",
       "    <tr style=\"text-align: right;\">\n",
       "      <th></th>\n",
       "      <th></th>\n",
       "      <th>case_count</th>\n",
       "    </tr>\n",
       "    <tr>\n",
       "      <th>state</th>\n",
       "      <th>month</th>\n",
       "      <th></th>\n",
       "    </tr>\n",
       "  </thead>\n",
       "  <tbody>\n",
       "    <tr>\n",
       "      <th rowspan=\"5\" valign=\"top\">AZ</th>\n",
       "      <th>2020-05-01</th>\n",
       "      <td>146</td>\n",
       "    </tr>\n",
       "    <tr>\n",
       "      <th>2020-06-01</th>\n",
       "      <td>364</td>\n",
       "    </tr>\n",
       "    <tr>\n",
       "      <th>2020-07-01</th>\n",
       "      <td>220</td>\n",
       "    </tr>\n",
       "    <tr>\n",
       "      <th>2020-11-01</th>\n",
       "      <td>441</td>\n",
       "    </tr>\n",
       "    <tr>\n",
       "      <th>2020-12-01</th>\n",
       "      <td>773</td>\n",
       "    </tr>\n",
       "    <tr>\n",
       "      <th>...</th>\n",
       "      <th>...</th>\n",
       "      <td>...</td>\n",
       "    </tr>\n",
       "    <tr>\n",
       "      <th rowspan=\"4\" valign=\"top\">FL</th>\n",
       "      <th>2021-04-01</th>\n",
       "      <td>486</td>\n",
       "    </tr>\n",
       "    <tr>\n",
       "      <th>2021-05-01</th>\n",
       "      <td>293</td>\n",
       "    </tr>\n",
       "    <tr>\n",
       "      <th>2021-06-01</th>\n",
       "      <td>387</td>\n",
       "    </tr>\n",
       "    <tr>\n",
       "      <th>2021-07-01</th>\n",
       "      <td>365</td>\n",
       "    </tr>\n",
       "    <tr>\n",
       "      <th>GA</th>\n",
       "      <th>2020-02-01</th>\n",
       "      <td>101</td>\n",
       "    </tr>\n",
       "  </tbody>\n",
       "</table>\n",
       "<p>943 rows × 1 columns</p>\n",
       "</div>"
      ],
      "text/plain": [
       "                  case_count\n",
       "state month                 \n",
       "AZ    2020-05-01         146\n",
       "      2020-06-01         364\n",
       "      2020-07-01         220\n",
       "      2020-11-01         441\n",
       "      2020-12-01         773\n",
       "...                      ...\n",
       "FL    2021-04-01         486\n",
       "      2021-05-01         293\n",
       "      2021-06-01         387\n",
       "      2021-07-01         365\n",
       "GA    2020-02-01         101\n",
       "\n",
       "[943 rows x 1 columns]"
      ]
     },
     "execution_count": 151,
     "metadata": {},
     "output_type": "execute_result"
    }
   ],
   "source": [
    "dropped_cases"
   ]
  },
  {
   "cell_type": "code",
   "execution_count": 152,
   "metadata": {},
   "outputs": [
    {
     "data": {
      "text/plain": [
       "case_count    1550852\n",
       "dtype: int64"
      ]
     },
     "execution_count": 152,
     "metadata": {},
     "output_type": "execute_result"
    }
   ],
   "source": [
    "dropped_cases.sum()"
   ]
  },
  {
   "cell_type": "code",
   "execution_count": 153,
   "metadata": {},
   "outputs": [
    {
     "data": {
      "text/plain": [
       "month\n",
       "2020-01-01      2146\n",
       "2020-02-01      1842\n",
       "2020-03-01     18959\n",
       "2020-04-01     44761\n",
       "2020-05-01     50107\n",
       "2020-06-01     58264\n",
       "2020-07-01    101718\n",
       "2020-08-01     82274\n",
       "2020-09-01     85540\n",
       "2020-10-01    144120\n",
       "2020-11-01    239285\n",
       "2020-12-01    238800\n",
       "2021-01-01    204725\n",
       "2021-02-01     76228\n",
       "2021-03-01     60453\n",
       "2021-04-01     57532\n",
       "2021-05-01     34679\n",
       "2021-06-01     25311\n",
       "2021-07-01     24108\n",
       "Name: case_count, dtype: int64"
      ]
     },
     "execution_count": 153,
     "metadata": {},
     "output_type": "execute_result"
    }
   ],
   "source": [
    "dropped_cases.reset_index().groupby('month')['case_count'].sum().sort_index()"
   ]
  }
 ],
 "metadata": {
  "kernelspec": {
   "display_name": "Python 3",
   "language": "python",
   "name": "python3"
  },
  "language_info": {
   "codemirror_mode": {
    "name": "ipython",
    "version": 3
   },
   "file_extension": ".py",
   "mimetype": "text/x-python",
   "name": "python",
   "nbconvert_exporter": "python",
   "pygments_lexer": "ipython3",
   "version": "3.8.5"
  }
 },
 "nbformat": 4,
 "nbformat_minor": 4
}
