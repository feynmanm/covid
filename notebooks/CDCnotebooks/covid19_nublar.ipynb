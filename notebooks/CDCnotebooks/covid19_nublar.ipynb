{
 "cells": [
  {
   "cell_type": "markdown",
   "metadata": {},
   "source": [
    "## Is the Covid 19 US hospitalization rate consistent over time? Over counties? Over states?\n",
    "* By \"hospitalization rate\", I mean percentage of covid 19 confirmed or probable cases that are hospitalized.\n",
    "* I'm going to use *COVID-19_Case_Surveillance_Public_Use_Data_with_Geography.csv* to discover tests\n",
    "  * This reports the majority of confirmed/probable results, providing identifying information down to the month and US county for each.\n",
    "* \n",
    "* This file lists the geocode (lat & long) of each test, which I will use to find the nearest hospital, whose location is gotten from *COVID-19_Reported_Patient_Impact_and_Hospital_Capacity_by_Facility.csv*. \n",
    "* The hospital impact file lists the number of covid confirmed and susptected patients admitted to each hospital.\n",
    "* Since the hospitalization file only spans Aug 2020 through Jul 2021, we'll only look at the same span in test results file. \n",
    "\n",
    "Further questions:\n",
    "* What about death rates? We expect these to decrease over time."
   ]
  },
  {
   "cell_type": "markdown",
   "metadata": {},
   "source": [
    "## Derive two transmission rate and two hospitalization rates per county, pre-delta and post-delta\n",
    "* Let's say pre-delta data is goes through June 2021, post-delta is everything thereafter... so July\n",
    "* Can we use pre-delta hospitalization rates of certain counties to predict post-delta hospitalization rates in other counties where the transmission rates -- pre-delta to post-delta -- are similar?\n",
    "* So what's a county's \"transmission rate\" anyhow? This is the change is the number of new cases from the previous month.\n",
    "* And \"hospitalization rate\"? This is the change is the number of new hospitalizations from the previous month.\n",
    "\n",
    "## Predict the effects of a 25% reduction of eligible (>= 12 years old) unvaccinated (county by county).\n",
    "Break this down a bit, specifically...\n",
    "* Initial label: county's count of covid hospitalizations per unit of population\n",
    "* Initial features: county's population density\n",
    "* We may look at time series (per month) analysis later"
   ]
  },
  {
   "cell_type": "markdown",
   "metadata": {},
   "source": [
    "# Processed data\n",
    "* Counties Geographies --> \n",
    "    * index --> FIPS\n",
    "    * includes state, 2019 population, land area, neighboring counties, geometry\n",
    "* County Covid Patients\n",
    "    * index --> FIPS\n",
    "    * includes case month, age group, sex, race, ethnicity, hospitalized (y/n), icu (y/n), death (y/n)\n",
    "* Patients per Month\n",
    "    * series, aggregates # of patients per month..."
   ]
  }
 ],
 "metadata": {
  "kernelspec": {
   "display_name": "Python 3",
   "language": "python",
   "name": "python3"
  },
  "language_info": {
   "codemirror_mode": {
    "name": "ipython",
    "version": 3
   },
   "file_extension": ".py",
   "mimetype": "text/x-python",
   "name": "python",
   "nbconvert_exporter": "python",
   "pygments_lexer": "ipython3",
   "version": "3.8.5"
  }
 },
 "nbformat": 4,
 "nbformat_minor": 4
}
