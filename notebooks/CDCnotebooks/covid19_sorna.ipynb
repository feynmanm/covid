{
 "cells": [
  {
   "cell_type": "code",
   "execution_count": 11,
   "metadata": {},
   "outputs": [],
   "source": [
    "import pandas as pd\n",
    "import numpy as np\n",
    "import os\n",
    "import geopandas as gpd"
   ]
  },
  {
   "cell_type": "markdown",
   "metadata": {},
   "source": [
    "# OLD INVESTIGATION"
   ]
  },
  {
   "cell_type": "code",
   "execution_count": 4,
   "metadata": {},
   "outputs": [
    {
     "name": "stdout",
     "output_type": "stream",
     "text": [
      "3928.479796 MB\n"
     ]
    }
   ],
   "source": [
    "path = '../../data/CDCdata/COVID-19_Case_Surveillance_Public_Use_Data_with_Geography.csv'\n",
    "print(os.stat(path).st_size / 1000 / 1000, 'MB')"
   ]
  },
  {
   "cell_type": "code",
   "execution_count": 12,
   "metadata": {},
   "outputs": [],
   "source": [
    "chunksize=250000\n",
    "raw_iter = pd.read_csv(path, chunksize=chunksize)"
   ]
  },
  {
   "cell_type": "code",
   "execution_count": 13,
   "metadata": {},
   "outputs": [],
   "source": [
    "chunk = next(raw_iter)"
   ]
  },
  {
   "cell_type": "code",
   "execution_count": 14,
   "metadata": {},
   "outputs": [
    {
     "data": {
      "text/html": [
       "<div>\n",
       "<style scoped>\n",
       "    .dataframe tbody tr th:only-of-type {\n",
       "        vertical-align: middle;\n",
       "    }\n",
       "\n",
       "    .dataframe tbody tr th {\n",
       "        vertical-align: top;\n",
       "    }\n",
       "\n",
       "    .dataframe thead th {\n",
       "        text-align: right;\n",
       "    }\n",
       "</style>\n",
       "<table border=\"1\" class=\"dataframe\">\n",
       "  <thead>\n",
       "    <tr style=\"text-align: right;\">\n",
       "      <th></th>\n",
       "      <th>case_month</th>\n",
       "      <th>res_state</th>\n",
       "      <th>state_fips_code</th>\n",
       "      <th>res_county</th>\n",
       "      <th>county_fips_code</th>\n",
       "      <th>age_group</th>\n",
       "      <th>sex</th>\n",
       "      <th>race</th>\n",
       "      <th>ethnicity</th>\n",
       "      <th>case_positive_specimen_interval</th>\n",
       "      <th>case_onset_interval</th>\n",
       "      <th>process</th>\n",
       "      <th>exposure_yn</th>\n",
       "      <th>current_status</th>\n",
       "      <th>symptom_status</th>\n",
       "      <th>hosp_yn</th>\n",
       "      <th>icu_yn</th>\n",
       "      <th>death_yn</th>\n",
       "      <th>underlying_conditions_yn</th>\n",
       "    </tr>\n",
       "  </thead>\n",
       "  <tbody>\n",
       "    <tr>\n",
       "      <th>100</th>\n",
       "      <td>2020-12</td>\n",
       "      <td>ID</td>\n",
       "      <td>16</td>\n",
       "      <td>NEZ PERCE</td>\n",
       "      <td>16069.0</td>\n",
       "      <td>65+ years</td>\n",
       "      <td>Female</td>\n",
       "      <td>Missing</td>\n",
       "      <td>Missing</td>\n",
       "      <td>NaN</td>\n",
       "      <td>NaN</td>\n",
       "      <td>Missing</td>\n",
       "      <td>Missing</td>\n",
       "      <td>Laboratory-confirmed case</td>\n",
       "      <td>Missing</td>\n",
       "      <td>Missing</td>\n",
       "      <td>Missing</td>\n",
       "      <td>NaN</td>\n",
       "      <td>NaN</td>\n",
       "    </tr>\n",
       "    <tr>\n",
       "      <th>101</th>\n",
       "      <td>2020-11</td>\n",
       "      <td>TN</td>\n",
       "      <td>47</td>\n",
       "      <td>SCOTT</td>\n",
       "      <td>47151.0</td>\n",
       "      <td>65+ years</td>\n",
       "      <td>Female</td>\n",
       "      <td>NaN</td>\n",
       "      <td>NaN</td>\n",
       "      <td>0.0</td>\n",
       "      <td>NaN</td>\n",
       "      <td>Missing</td>\n",
       "      <td>Yes</td>\n",
       "      <td>Laboratory-confirmed case</td>\n",
       "      <td>Unknown</td>\n",
       "      <td>Missing</td>\n",
       "      <td>Missing</td>\n",
       "      <td>Missing</td>\n",
       "      <td>NaN</td>\n",
       "    </tr>\n",
       "    <tr>\n",
       "      <th>102</th>\n",
       "      <td>2021-01</td>\n",
       "      <td>MT</td>\n",
       "      <td>30</td>\n",
       "      <td>LEWIS AND CLARK</td>\n",
       "      <td>30049.0</td>\n",
       "      <td>0 - 17 years</td>\n",
       "      <td>Male</td>\n",
       "      <td>Missing</td>\n",
       "      <td>Missing</td>\n",
       "      <td>NaN</td>\n",
       "      <td>0.0</td>\n",
       "      <td>Missing</td>\n",
       "      <td>Missing</td>\n",
       "      <td>Laboratory-confirmed case</td>\n",
       "      <td>Symptomatic</td>\n",
       "      <td>No</td>\n",
       "      <td>Missing</td>\n",
       "      <td>NaN</td>\n",
       "      <td>NaN</td>\n",
       "    </tr>\n",
       "    <tr>\n",
       "      <th>103</th>\n",
       "      <td>2020-12</td>\n",
       "      <td>IL</td>\n",
       "      <td>17</td>\n",
       "      <td>PERRY</td>\n",
       "      <td>17145.0</td>\n",
       "      <td>0 - 17 years</td>\n",
       "      <td>Male</td>\n",
       "      <td>NaN</td>\n",
       "      <td>NaN</td>\n",
       "      <td>NaN</td>\n",
       "      <td>0.0</td>\n",
       "      <td>Missing</td>\n",
       "      <td>Missing</td>\n",
       "      <td>Laboratory-confirmed case</td>\n",
       "      <td>Missing</td>\n",
       "      <td>No</td>\n",
       "      <td>Missing</td>\n",
       "      <td>Missing</td>\n",
       "      <td>NaN</td>\n",
       "    </tr>\n",
       "    <tr>\n",
       "      <th>104</th>\n",
       "      <td>2020-12</td>\n",
       "      <td>NY</td>\n",
       "      <td>36</td>\n",
       "      <td>SARATOGA</td>\n",
       "      <td>36091.0</td>\n",
       "      <td>0 - 17 years</td>\n",
       "      <td>Male</td>\n",
       "      <td>Missing</td>\n",
       "      <td>NaN</td>\n",
       "      <td>0.0</td>\n",
       "      <td>NaN</td>\n",
       "      <td>Missing</td>\n",
       "      <td>Missing</td>\n",
       "      <td>Laboratory-confirmed case</td>\n",
       "      <td>Missing</td>\n",
       "      <td>Missing</td>\n",
       "      <td>Missing</td>\n",
       "      <td>Missing</td>\n",
       "      <td>NaN</td>\n",
       "    </tr>\n",
       "    <tr>\n",
       "      <th>105</th>\n",
       "      <td>2020-09</td>\n",
       "      <td>IL</td>\n",
       "      <td>17</td>\n",
       "      <td>ADAMS</td>\n",
       "      <td>17001.0</td>\n",
       "      <td>18 to 49 years</td>\n",
       "      <td>Male</td>\n",
       "      <td>Missing</td>\n",
       "      <td>Missing</td>\n",
       "      <td>NaN</td>\n",
       "      <td>0.0</td>\n",
       "      <td>Missing</td>\n",
       "      <td>Missing</td>\n",
       "      <td>Laboratory-confirmed case</td>\n",
       "      <td>Missing</td>\n",
       "      <td>No</td>\n",
       "      <td>Missing</td>\n",
       "      <td>Missing</td>\n",
       "      <td>NaN</td>\n",
       "    </tr>\n",
       "    <tr>\n",
       "      <th>106</th>\n",
       "      <td>2021-04</td>\n",
       "      <td>MN</td>\n",
       "      <td>27</td>\n",
       "      <td>BECKER</td>\n",
       "      <td>27005.0</td>\n",
       "      <td>18 to 49 years</td>\n",
       "      <td>Male</td>\n",
       "      <td>Unknown</td>\n",
       "      <td>Missing</td>\n",
       "      <td>0.0</td>\n",
       "      <td>0.0</td>\n",
       "      <td>Missing</td>\n",
       "      <td>Yes</td>\n",
       "      <td>Laboratory-confirmed case</td>\n",
       "      <td>Symptomatic</td>\n",
       "      <td>Missing</td>\n",
       "      <td>Missing</td>\n",
       "      <td>No</td>\n",
       "      <td>NaN</td>\n",
       "    </tr>\n",
       "    <tr>\n",
       "      <th>107</th>\n",
       "      <td>2021-03</td>\n",
       "      <td>CO</td>\n",
       "      <td>8</td>\n",
       "      <td>LA PLATA</td>\n",
       "      <td>8067.0</td>\n",
       "      <td>18 to 49 years</td>\n",
       "      <td>Male</td>\n",
       "      <td>Missing</td>\n",
       "      <td>NaN</td>\n",
       "      <td>NaN</td>\n",
       "      <td>NaN</td>\n",
       "      <td>Missing</td>\n",
       "      <td>Missing</td>\n",
       "      <td>Laboratory-confirmed case</td>\n",
       "      <td>Missing</td>\n",
       "      <td>Missing</td>\n",
       "      <td>Missing</td>\n",
       "      <td>Missing</td>\n",
       "      <td>NaN</td>\n",
       "    </tr>\n",
       "    <tr>\n",
       "      <th>108</th>\n",
       "      <td>2020-07</td>\n",
       "      <td>KS</td>\n",
       "      <td>20</td>\n",
       "      <td>MCPHERSON</td>\n",
       "      <td>20113.0</td>\n",
       "      <td>18 to 49 years</td>\n",
       "      <td>Male</td>\n",
       "      <td>NaN</td>\n",
       "      <td>NaN</td>\n",
       "      <td>1.0</td>\n",
       "      <td>0.0</td>\n",
       "      <td>Clinical evaluation</td>\n",
       "      <td>Missing</td>\n",
       "      <td>Laboratory-confirmed case</td>\n",
       "      <td>Symptomatic</td>\n",
       "      <td>No</td>\n",
       "      <td>No</td>\n",
       "      <td>No</td>\n",
       "      <td>Yes</td>\n",
       "    </tr>\n",
       "    <tr>\n",
       "      <th>109</th>\n",
       "      <td>2020-10</td>\n",
       "      <td>MN</td>\n",
       "      <td>27</td>\n",
       "      <td>MORRISON</td>\n",
       "      <td>27097.0</td>\n",
       "      <td>18 to 49 years</td>\n",
       "      <td>Male</td>\n",
       "      <td>Unknown</td>\n",
       "      <td>Missing</td>\n",
       "      <td>0.0</td>\n",
       "      <td>NaN</td>\n",
       "      <td>Missing</td>\n",
       "      <td>Missing</td>\n",
       "      <td>Laboratory-confirmed case</td>\n",
       "      <td>Missing</td>\n",
       "      <td>Missing</td>\n",
       "      <td>Missing</td>\n",
       "      <td>No</td>\n",
       "      <td>NaN</td>\n",
       "    </tr>\n",
       "  </tbody>\n",
       "</table>\n",
       "</div>"
      ],
      "text/plain": [
       "    case_month res_state  state_fips_code       res_county  county_fips_code  \\\n",
       "100    2020-12        ID               16        NEZ PERCE           16069.0   \n",
       "101    2020-11        TN               47            SCOTT           47151.0   \n",
       "102    2021-01        MT               30  LEWIS AND CLARK           30049.0   \n",
       "103    2020-12        IL               17            PERRY           17145.0   \n",
       "104    2020-12        NY               36         SARATOGA           36091.0   \n",
       "105    2020-09        IL               17            ADAMS           17001.0   \n",
       "106    2021-04        MN               27           BECKER           27005.0   \n",
       "107    2021-03        CO                8         LA PLATA            8067.0   \n",
       "108    2020-07        KS               20        MCPHERSON           20113.0   \n",
       "109    2020-10        MN               27         MORRISON           27097.0   \n",
       "\n",
       "          age_group     sex     race ethnicity  \\\n",
       "100       65+ years  Female  Missing   Missing   \n",
       "101       65+ years  Female      NaN       NaN   \n",
       "102    0 - 17 years    Male  Missing   Missing   \n",
       "103    0 - 17 years    Male      NaN       NaN   \n",
       "104    0 - 17 years    Male  Missing       NaN   \n",
       "105  18 to 49 years    Male  Missing   Missing   \n",
       "106  18 to 49 years    Male  Unknown   Missing   \n",
       "107  18 to 49 years    Male  Missing       NaN   \n",
       "108  18 to 49 years    Male      NaN       NaN   \n",
       "109  18 to 49 years    Male  Unknown   Missing   \n",
       "\n",
       "     case_positive_specimen_interval  case_onset_interval  \\\n",
       "100                              NaN                  NaN   \n",
       "101                              0.0                  NaN   \n",
       "102                              NaN                  0.0   \n",
       "103                              NaN                  0.0   \n",
       "104                              0.0                  NaN   \n",
       "105                              NaN                  0.0   \n",
       "106                              0.0                  0.0   \n",
       "107                              NaN                  NaN   \n",
       "108                              1.0                  0.0   \n",
       "109                              0.0                  NaN   \n",
       "\n",
       "                 process exposure_yn             current_status  \\\n",
       "100              Missing     Missing  Laboratory-confirmed case   \n",
       "101              Missing         Yes  Laboratory-confirmed case   \n",
       "102              Missing     Missing  Laboratory-confirmed case   \n",
       "103              Missing     Missing  Laboratory-confirmed case   \n",
       "104              Missing     Missing  Laboratory-confirmed case   \n",
       "105              Missing     Missing  Laboratory-confirmed case   \n",
       "106              Missing         Yes  Laboratory-confirmed case   \n",
       "107              Missing     Missing  Laboratory-confirmed case   \n",
       "108  Clinical evaluation     Missing  Laboratory-confirmed case   \n",
       "109              Missing     Missing  Laboratory-confirmed case   \n",
       "\n",
       "    symptom_status  hosp_yn   icu_yn death_yn underlying_conditions_yn  \n",
       "100        Missing  Missing  Missing      NaN                      NaN  \n",
       "101        Unknown  Missing  Missing  Missing                      NaN  \n",
       "102    Symptomatic       No  Missing      NaN                      NaN  \n",
       "103        Missing       No  Missing  Missing                      NaN  \n",
       "104        Missing  Missing  Missing  Missing                      NaN  \n",
       "105        Missing       No  Missing  Missing                      NaN  \n",
       "106    Symptomatic  Missing  Missing       No                      NaN  \n",
       "107        Missing  Missing  Missing  Missing                      NaN  \n",
       "108    Symptomatic       No       No       No                      Yes  \n",
       "109        Missing  Missing  Missing       No                      NaN  "
      ]
     },
     "execution_count": 14,
     "metadata": {},
     "output_type": "execute_result"
    }
   ],
   "source": [
    "chunk[100:110]"
   ]
  },
  {
   "cell_type": "code",
   "execution_count": 15,
   "metadata": {},
   "outputs": [
    {
     "name": "stdout",
     "output_type": "stream",
     "text": [
      "<class 'pandas.core.frame.DataFrame'>\n",
      "RangeIndex: 250000 entries, 0 to 249999\n",
      "Data columns (total 19 columns):\n",
      " #   Column                           Non-Null Count   Dtype  \n",
      "---  ------                           --------------   -----  \n",
      " 0   case_month                       250000 non-null  object \n",
      " 1   res_state                        250000 non-null  object \n",
      " 2   state_fips_code                  250000 non-null  int64  \n",
      " 3   res_county                       249182 non-null  object \n",
      " 4   county_fips_code                 249182 non-null  float64\n",
      " 5   age_group                        237646 non-null  object \n",
      " 6   sex                              208438 non-null  object \n",
      " 7   race                             136223 non-null  object \n",
      " 8   ethnicity                        117317 non-null  object \n",
      " 9   case_positive_specimen_interval  81345 non-null   float64\n",
      " 10  case_onset_interval              123475 non-null  float64\n",
      " 11  process                          250000 non-null  object \n",
      " 12  exposure_yn                      250000 non-null  object \n",
      " 13  current_status                   250000 non-null  object \n",
      " 14  symptom_status                   250000 non-null  object \n",
      " 15  hosp_yn                          250000 non-null  object \n",
      " 16  icu_yn                           250000 non-null  object \n",
      " 17  death_yn                         208625 non-null  object \n",
      " 18  underlying_conditions_yn         19397 non-null   object \n",
      "dtypes: float64(3), int64(1), object(15)\n",
      "memory usage: 36.2+ MB\n"
     ]
    }
   ],
   "source": [
    "chunk.info()"
   ]
  },
  {
   "cell_type": "code",
   "execution_count": 16,
   "metadata": {},
   "outputs": [],
   "source": [
    "chunk.replace('Missing', np.nan, inplace=True)"
   ]
  },
  {
   "cell_type": "code",
   "execution_count": 17,
   "metadata": {},
   "outputs": [],
   "source": [
    "chunk['case_month'] = pd.to_datetime(chunk['case_month'], format='%Y-%m')"
   ]
  },
  {
   "cell_type": "code",
   "execution_count": 18,
   "metadata": {},
   "outputs": [
    {
     "name": "stdout",
     "output_type": "stream",
     "text": [
      "<class 'pandas.core.frame.DataFrame'>\n",
      "RangeIndex: 250000 entries, 0 to 249999\n",
      "Data columns (total 19 columns):\n",
      " #   Column                           Non-Null Count   Dtype         \n",
      "---  ------                           --------------   -----         \n",
      " 0   case_month                       250000 non-null  datetime64[ns]\n",
      " 1   res_state                        250000 non-null  object        \n",
      " 2   state_fips_code                  250000 non-null  int64         \n",
      " 3   res_county                       249182 non-null  object        \n",
      " 4   county_fips_code                 249182 non-null  float64       \n",
      " 5   age_group                        235220 non-null  object        \n",
      " 6   sex                              207803 non-null  object        \n",
      " 7   race                             113556 non-null  object        \n",
      " 8   ethnicity                        85517 non-null   object        \n",
      " 9   case_positive_specimen_interval  81345 non-null   float64       \n",
      " 10  case_onset_interval              123475 non-null  float64       \n",
      " 11  process                          13494 non-null   object        \n",
      " 12  exposure_yn                      32622 non-null   object        \n",
      " 13  current_status                   250000 non-null  object        \n",
      " 14  symptom_status                   148460 non-null  object        \n",
      " 15  hosp_yn                          138742 non-null  object        \n",
      " 16  icu_yn                           42937 non-null   object        \n",
      " 17  death_yn                         127443 non-null  object        \n",
      " 18  underlying_conditions_yn         19397 non-null   object        \n",
      "dtypes: datetime64[ns](1), float64(3), int64(1), object(14)\n",
      "memory usage: 36.2+ MB\n"
     ]
    }
   ],
   "source": [
    "chunk.info()"
   ]
  },
  {
   "cell_type": "markdown",
   "metadata": {},
   "source": [
    "Looking into a bit, there doesn't seem to be any rhyme or reason to the cases with missing counties, like they are spread out somewhat.\n",
    "\n",
    "**Drop rows with both missing 'res_county' and missing 'county_fips_code'** "
   ]
  },
  {
   "cell_type": "code",
   "execution_count": 20,
   "metadata": {},
   "outputs": [
    {
     "data": {
      "text/plain": [
       "AZ    164\n",
       "IN    164\n",
       "PA    163\n",
       "MD    163\n",
       "GA     82\n",
       "IL     82\n",
       "Name: res_state, dtype: int64"
      ]
     },
     "execution_count": 20,
     "metadata": {},
     "output_type": "execute_result"
    }
   ],
   "source": [
    "# For the 800+ cases with missing counties, we presumedly cannot use these as we need to put them in a county.\n",
    "# How spread out are they (are they concentrated in a particular state, e.g.)?\n",
    "chunk[chunk['county_fips_code'].isna()]['res_state'].value_counts()"
   ]
  },
  {
   "cell_type": "code",
   "execution_count": 25,
   "metadata": {
    "scrolled": true
   },
   "outputs": [
    {
     "data": {
      "text/plain": [
       "case_month  res_state\n",
       "2020-03-01  IN           11\n",
       "2020-05-01  AZ           25\n",
       "            MD           21\n",
       "2020-06-01  AZ           12\n",
       "2020-07-01  AZ           12\n",
       "            GA           66\n",
       "            IN           28\n",
       "2020-09-01  IL           13\n",
       "            PA           11\n",
       "2020-10-01  IN           41\n",
       "            MD           18\n",
       "            PA           49\n",
       "2020-11-01  AZ           36\n",
       "            GA           16\n",
       "            IL           26\n",
       "            IN           11\n",
       "            MD           10\n",
       "2020-12-01  AZ           13\n",
       "            IL           43\n",
       "            IN           54\n",
       "            PA           14\n",
       "2021-01-01  AZ           12\n",
       "            IN           19\n",
       "            MD           29\n",
       "            PA           38\n",
       "2021-02-01  AZ           23\n",
       "            MD           18\n",
       "            PA           12\n",
       "2021-03-01  AZ           16\n",
       "            MD           18\n",
       "2021-04-01  MD           49\n",
       "            PA           21\n",
       "2021-05-01  PA           18\n",
       "2021-07-01  AZ           15\n",
       "Name: res_state, dtype: int64"
      ]
     },
     "execution_count": 25,
     "metadata": {},
     "output_type": "execute_result"
    }
   ],
   "source": [
    "chunk[chunk['county_fips_code'].isna()].groupby(['case_month'])['res_state'].value_counts().sort_index()"
   ]
  },
  {
   "cell_type": "code",
   "execution_count": 10,
   "metadata": {},
   "outputs": [
    {
     "data": {
      "text/html": [
       "<div>\n",
       "<style scoped>\n",
       "    .dataframe tbody tr th:only-of-type {\n",
       "        vertical-align: middle;\n",
       "    }\n",
       "\n",
       "    .dataframe tbody tr th {\n",
       "        vertical-align: top;\n",
       "    }\n",
       "\n",
       "    .dataframe thead th {\n",
       "        text-align: right;\n",
       "    }\n",
       "</style>\n",
       "<table border=\"1\" class=\"dataframe\">\n",
       "  <thead>\n",
       "    <tr style=\"text-align: right;\">\n",
       "      <th></th>\n",
       "      <th>feature</th>\n",
       "      <th>unique values</th>\n",
       "    </tr>\n",
       "  </thead>\n",
       "  <tbody>\n",
       "    <tr>\n",
       "      <th>0</th>\n",
       "      <td>case_month</td>\n",
       "      <td>19</td>\n",
       "    </tr>\n",
       "    <tr>\n",
       "      <th>1</th>\n",
       "      <td>res_state</td>\n",
       "      <td>49</td>\n",
       "    </tr>\n",
       "    <tr>\n",
       "      <th>2</th>\n",
       "      <td>state_fips_code</td>\n",
       "      <td>49</td>\n",
       "    </tr>\n",
       "    <tr>\n",
       "      <th>3</th>\n",
       "      <td>res_county</td>\n",
       "      <td>1034</td>\n",
       "    </tr>\n",
       "    <tr>\n",
       "      <th>4</th>\n",
       "      <td>county_fips_code</td>\n",
       "      <td>1531</td>\n",
       "    </tr>\n",
       "    <tr>\n",
       "      <th>5</th>\n",
       "      <td>age_group</td>\n",
       "      <td>5</td>\n",
       "    </tr>\n",
       "    <tr>\n",
       "      <th>6</th>\n",
       "      <td>sex</td>\n",
       "      <td>4</td>\n",
       "    </tr>\n",
       "    <tr>\n",
       "      <th>7</th>\n",
       "      <td>race</td>\n",
       "      <td>8</td>\n",
       "    </tr>\n",
       "    <tr>\n",
       "      <th>8</th>\n",
       "      <td>ethnicity</td>\n",
       "      <td>4</td>\n",
       "    </tr>\n",
       "    <tr>\n",
       "      <th>9</th>\n",
       "      <td>case_positive_specimen_interval</td>\n",
       "      <td>78</td>\n",
       "    </tr>\n",
       "    <tr>\n",
       "      <th>10</th>\n",
       "      <td>case_onset_interval</td>\n",
       "      <td>67</td>\n",
       "    </tr>\n",
       "    <tr>\n",
       "      <th>11</th>\n",
       "      <td>process</td>\n",
       "      <td>10</td>\n",
       "    </tr>\n",
       "    <tr>\n",
       "      <th>12</th>\n",
       "      <td>exposure_yn</td>\n",
       "      <td>3</td>\n",
       "    </tr>\n",
       "    <tr>\n",
       "      <th>13</th>\n",
       "      <td>current_status</td>\n",
       "      <td>2</td>\n",
       "    </tr>\n",
       "    <tr>\n",
       "      <th>14</th>\n",
       "      <td>symptom_status</td>\n",
       "      <td>4</td>\n",
       "    </tr>\n",
       "    <tr>\n",
       "      <th>15</th>\n",
       "      <td>hosp_yn</td>\n",
       "      <td>4</td>\n",
       "    </tr>\n",
       "    <tr>\n",
       "      <th>16</th>\n",
       "      <td>icu_yn</td>\n",
       "      <td>4</td>\n",
       "    </tr>\n",
       "    <tr>\n",
       "      <th>17</th>\n",
       "      <td>death_yn</td>\n",
       "      <td>4</td>\n",
       "    </tr>\n",
       "    <tr>\n",
       "      <th>18</th>\n",
       "      <td>underlying_conditions_yn</td>\n",
       "      <td>3</td>\n",
       "    </tr>\n",
       "  </tbody>\n",
       "</table>\n",
       "</div>"
      ],
      "text/plain": [
       "                            feature  unique values\n",
       "0                        case_month             19\n",
       "1                         res_state             49\n",
       "2                   state_fips_code             49\n",
       "3                        res_county           1034\n",
       "4                  county_fips_code           1531\n",
       "5                         age_group              5\n",
       "6                               sex              4\n",
       "7                              race              8\n",
       "8                         ethnicity              4\n",
       "9   case_positive_specimen_interval             78\n",
       "10              case_onset_interval             67\n",
       "11                          process             10\n",
       "12                      exposure_yn              3\n",
       "13                   current_status              2\n",
       "14                   symptom_status              4\n",
       "15                          hosp_yn              4\n",
       "16                           icu_yn              4\n",
       "17                         death_yn              4\n",
       "18         underlying_conditions_yn              3"
      ]
     },
     "execution_count": 10,
     "metadata": {},
     "output_type": "execute_result"
    }
   ],
   "source": [
    "pd.DataFrame([(col, len(chunk[col].unique())) for col in chunk.columns], columns=['feature', 'unique values'])"
   ]
  },
  {
   "cell_type": "markdown",
   "metadata": {},
   "source": [
    "Hmmm, we know the US has over 3000 counties, but only 1531 county codes are in this (early!) chunk of 250,000 covid cases. There are 29M+ records total, so it will be interesting to see what additional counties eventually report."
   ]
  },
  {
   "cell_type": "code",
   "execution_count": 41,
   "metadata": {},
   "outputs": [
    {
     "data": {
      "text/plain": [
       "18 to 49 years    127994\n",
       "50 to 64 years     41856\n",
       "0 - 17 years       41094\n",
       "65+ years          24276\n",
       "Name: age_group, dtype: int64"
      ]
     },
     "execution_count": 41,
     "metadata": {},
     "output_type": "execute_result"
    }
   ],
   "source": [
    "chunk['age_group'].value_counts()"
   ]
  },
  {
   "cell_type": "code",
   "execution_count": 30,
   "metadata": {},
   "outputs": [
    {
     "data": {
      "text/plain": [
       "2020-01-01       17\n",
       "2020-02-01       19\n",
       "2020-03-01     2736\n",
       "2020-04-01     6988\n",
       "2020-05-01     8407\n",
       "2020-06-01     9947\n",
       "2020-07-01    15679\n",
       "2020-08-01    13477\n",
       "2020-09-01    12375\n",
       "2020-10-01    19145\n",
       "2020-11-01    35774\n",
       "2020-12-01    37494\n",
       "2021-01-01    30997\n",
       "2021-02-01    15522\n",
       "2021-03-01    12863\n",
       "2021-04-01    13418\n",
       "2021-05-01     8289\n",
       "2021-06-01     3585\n",
       "2021-07-01     3268\n",
       "Name: case_month, dtype: int64"
      ]
     },
     "execution_count": 30,
     "metadata": {},
     "output_type": "execute_result"
    }
   ],
   "source": [
    "chunk['case_month'].value_counts().sort_index()"
   ]
  },
  {
   "cell_type": "code",
   "execution_count": 23,
   "metadata": {},
   "outputs": [
    {
     "name": "stdout",
     "output_type": "stream",
     "text": [
      "Nan values: 0\n",
      "Laboratory-confirmed case    217847\n",
      "Probable Case                 32153\n",
      "Name: current_status, dtype: int64\n"
     ]
    }
   ],
   "source": [
    "print('Nan values:', len(chunk[chunk['current_status'].isna()]))\n",
    "print(chunk['current_status'].value_counts())"
   ]
  },
  {
   "cell_type": "code",
   "execution_count": 24,
   "metadata": {},
   "outputs": [
    {
     "name": "stdout",
     "output_type": "stream",
     "text": [
      "Nan values: 111258\n",
      "No         103836\n",
      "Unknown     26455\n",
      "Yes          8451\n",
      "Name: hosp_yn, dtype: int64\n"
     ]
    }
   ],
   "source": [
    "print('Nan values:', len(chunk[chunk['hosp_yn'].isna()]))\n",
    "print(chunk['hosp_yn'].value_counts())"
   ]
  },
  {
   "cell_type": "code",
   "execution_count": 25,
   "metadata": {},
   "outputs": [
    {
     "name": "stdout",
     "output_type": "stream",
     "text": [
      "Nan values: 207063\n",
      "Unknown    27017\n",
      "No         15148\n",
      "Yes          772\n",
      "Name: icu_yn, dtype: int64\n"
     ]
    }
   ],
   "source": [
    "print('Nan values:', len(chunk[chunk['icu_yn'].isna()]))\n",
    "print(chunk['icu_yn'].value_counts())"
   ]
  },
  {
   "cell_type": "code",
   "execution_count": 26,
   "metadata": {},
   "outputs": [
    {
     "name": "stdout",
     "output_type": "stream",
     "text": [
      "Nan values: 122557\n",
      "No         106875\n",
      "Unknown     20443\n",
      "Yes           125\n",
      "Name: death_yn, dtype: int64\n"
     ]
    }
   ],
   "source": [
    "print('Nan values:', len(chunk[chunk['death_yn'].isna()]))\n",
    "print(chunk['death_yn'].value_counts())"
   ]
  },
  {
   "cell_type": "code",
   "execution_count": 30,
   "metadata": {},
   "outputs": [
    {
     "data": {
      "text/plain": [
       "11936"
      ]
     },
     "execution_count": 30,
     "metadata": {},
     "output_type": "execute_result"
    }
   ],
   "source": [
    "len(chunk[(chunk['current_status'] == 'Probable Case') & chunk['hosp_yn'].isna() & chunk['icu_yn'].isna() & chunk['death_yn'].isna()])"
   ]
  },
  {
   "cell_type": "code",
   "execution_count": 31,
   "metadata": {},
   "outputs": [
    {
     "data": {
      "text/plain": [
       "219062"
      ]
     },
     "execution_count": 31,
     "metadata": {},
     "output_type": "execute_result"
    }
   ],
   "source": [
    "len(chunk[(chunk['current_status'] == 'Probable Case') | chunk['hosp_yn'].isna() | chunk['icu_yn'].isna() | chunk['death_yn'].isna()])"
   ]
  },
  {
   "cell_type": "code",
   "execution_count": 33,
   "metadata": {},
   "outputs": [
    {
     "name": "stdout",
     "output_type": "stream",
     "text": [
      "missing hosp, icu, and death data: 78177\n",
      "missing hosp, icu, or death data: 214412\n"
     ]
    }
   ],
   "source": [
    "print('missing hosp, icu, and death data:', len(chunk[chunk['hosp_yn'].isna() & chunk['icu_yn'].isna() & chunk['death_yn'].isna()]))\n",
    "print('missing hosp, icu, or death data:', len(chunk[chunk['hosp_yn'].isna() | chunk['icu_yn'].isna() | chunk['death_yn'].isna()]))"
   ]
  },
  {
   "cell_type": "code",
   "execution_count": 40,
   "metadata": {},
   "outputs": [
    {
     "data": {
      "text/html": [
       "<div>\n",
       "<style scoped>\n",
       "    .dataframe tbody tr th:only-of-type {\n",
       "        vertical-align: middle;\n",
       "    }\n",
       "\n",
       "    .dataframe tbody tr th {\n",
       "        vertical-align: top;\n",
       "    }\n",
       "\n",
       "    .dataframe thead th {\n",
       "        text-align: right;\n",
       "    }\n",
       "</style>\n",
       "<table border=\"1\" class=\"dataframe\">\n",
       "  <thead>\n",
       "    <tr style=\"text-align: right;\">\n",
       "      <th></th>\n",
       "      <th>case_month</th>\n",
       "      <th>res_state</th>\n",
       "      <th>state_fips_code</th>\n",
       "      <th>res_county</th>\n",
       "      <th>county_fips_code</th>\n",
       "      <th>age_group</th>\n",
       "      <th>sex</th>\n",
       "      <th>race</th>\n",
       "      <th>ethnicity</th>\n",
       "      <th>case_positive_specimen_interval</th>\n",
       "      <th>case_onset_interval</th>\n",
       "      <th>process</th>\n",
       "      <th>exposure_yn</th>\n",
       "      <th>current_status</th>\n",
       "      <th>symptom_status</th>\n",
       "      <th>hosp_yn</th>\n",
       "      <th>icu_yn</th>\n",
       "      <th>death_yn</th>\n",
       "      <th>underlying_conditions_yn</th>\n",
       "    </tr>\n",
       "  </thead>\n",
       "  <tbody>\n",
       "    <tr>\n",
       "      <th>109526</th>\n",
       "      <td>2020-03-01</td>\n",
       "      <td>LA</td>\n",
       "      <td>22</td>\n",
       "      <td>JEFFERSON</td>\n",
       "      <td>22051.0</td>\n",
       "      <td>65+ years</td>\n",
       "      <td>Male</td>\n",
       "      <td>White</td>\n",
       "      <td>Non-Hispanic/Latino</td>\n",
       "      <td>0.0</td>\n",
       "      <td>NaN</td>\n",
       "      <td>NaN</td>\n",
       "      <td>Yes</td>\n",
       "      <td>Laboratory-confirmed case</td>\n",
       "      <td>Symptomatic</td>\n",
       "      <td>Yes</td>\n",
       "      <td>Yes</td>\n",
       "      <td>Yes</td>\n",
       "      <td>Yes</td>\n",
       "    </tr>\n",
       "    <tr>\n",
       "      <th>124618</th>\n",
       "      <td>2020-04-01</td>\n",
       "      <td>CA</td>\n",
       "      <td>6</td>\n",
       "      <td>ALAMEDA</td>\n",
       "      <td>6001.0</td>\n",
       "      <td>65+ years</td>\n",
       "      <td>Female</td>\n",
       "      <td>White</td>\n",
       "      <td>Non-Hispanic/Latino</td>\n",
       "      <td>NaN</td>\n",
       "      <td>0.0</td>\n",
       "      <td>NaN</td>\n",
       "      <td>NaN</td>\n",
       "      <td>Laboratory-confirmed case</td>\n",
       "      <td>Symptomatic</td>\n",
       "      <td>Yes</td>\n",
       "      <td>Yes</td>\n",
       "      <td>Yes</td>\n",
       "      <td>NaN</td>\n",
       "    </tr>\n",
       "    <tr>\n",
       "      <th>127671</th>\n",
       "      <td>2020-04-01</td>\n",
       "      <td>CA</td>\n",
       "      <td>6</td>\n",
       "      <td>ALAMEDA</td>\n",
       "      <td>6001.0</td>\n",
       "      <td>65+ years</td>\n",
       "      <td>Female</td>\n",
       "      <td>White</td>\n",
       "      <td>Non-Hispanic/Latino</td>\n",
       "      <td>NaN</td>\n",
       "      <td>NaN</td>\n",
       "      <td>NaN</td>\n",
       "      <td>NaN</td>\n",
       "      <td>Laboratory-confirmed case</td>\n",
       "      <td>Symptomatic</td>\n",
       "      <td>Yes</td>\n",
       "      <td>Yes</td>\n",
       "      <td>Yes</td>\n",
       "      <td>NaN</td>\n",
       "    </tr>\n",
       "    <tr>\n",
       "      <th>174636</th>\n",
       "      <td>2021-01-01</td>\n",
       "      <td>OH</td>\n",
       "      <td>39</td>\n",
       "      <td>LOGAN</td>\n",
       "      <td>39091.0</td>\n",
       "      <td>65+ years</td>\n",
       "      <td>Male</td>\n",
       "      <td>White</td>\n",
       "      <td>Non-Hispanic/Latino</td>\n",
       "      <td>NaN</td>\n",
       "      <td>0.0</td>\n",
       "      <td>Clinical evaluation</td>\n",
       "      <td>Yes</td>\n",
       "      <td>Probable Case</td>\n",
       "      <td>Symptomatic</td>\n",
       "      <td>Yes</td>\n",
       "      <td>Yes</td>\n",
       "      <td>Yes</td>\n",
       "      <td>Yes</td>\n",
       "    </tr>\n",
       "    <tr>\n",
       "      <th>175674</th>\n",
       "      <td>2021-01-01</td>\n",
       "      <td>PA</td>\n",
       "      <td>42</td>\n",
       "      <td>NaN</td>\n",
       "      <td>NaN</td>\n",
       "      <td>65+ years</td>\n",
       "      <td>Male</td>\n",
       "      <td>White</td>\n",
       "      <td>NaN</td>\n",
       "      <td>0.0</td>\n",
       "      <td>0.0</td>\n",
       "      <td>NaN</td>\n",
       "      <td>Yes</td>\n",
       "      <td>Laboratory-confirmed case</td>\n",
       "      <td>Symptomatic</td>\n",
       "      <td>Yes</td>\n",
       "      <td>Yes</td>\n",
       "      <td>Yes</td>\n",
       "      <td>Yes</td>\n",
       "    </tr>\n",
       "    <tr>\n",
       "      <th>188389</th>\n",
       "      <td>2021-01-01</td>\n",
       "      <td>OH</td>\n",
       "      <td>39</td>\n",
       "      <td>LOGAN</td>\n",
       "      <td>39091.0</td>\n",
       "      <td>65+ years</td>\n",
       "      <td>Male</td>\n",
       "      <td>White</td>\n",
       "      <td>Non-Hispanic/Latino</td>\n",
       "      <td>NaN</td>\n",
       "      <td>0.0</td>\n",
       "      <td>Clinical evaluation</td>\n",
       "      <td>Yes</td>\n",
       "      <td>Probable Case</td>\n",
       "      <td>Symptomatic</td>\n",
       "      <td>Yes</td>\n",
       "      <td>Yes</td>\n",
       "      <td>Yes</td>\n",
       "      <td>Yes</td>\n",
       "    </tr>\n",
       "    <tr>\n",
       "      <th>202773</th>\n",
       "      <td>2020-04-01</td>\n",
       "      <td>PA</td>\n",
       "      <td>42</td>\n",
       "      <td>COLUMBIA</td>\n",
       "      <td>42037.0</td>\n",
       "      <td>65+ years</td>\n",
       "      <td>Female</td>\n",
       "      <td>NaN</td>\n",
       "      <td>NaN</td>\n",
       "      <td>0.0</td>\n",
       "      <td>0.0</td>\n",
       "      <td>NaN</td>\n",
       "      <td>Yes</td>\n",
       "      <td>Laboratory-confirmed case</td>\n",
       "      <td>Symptomatic</td>\n",
       "      <td>Yes</td>\n",
       "      <td>Yes</td>\n",
       "      <td>Yes</td>\n",
       "      <td>Yes</td>\n",
       "    </tr>\n",
       "  </tbody>\n",
       "</table>\n",
       "</div>"
      ],
      "text/plain": [
       "       case_month res_state  state_fips_code res_county  county_fips_code  \\\n",
       "109526 2020-03-01        LA               22  JEFFERSON           22051.0   \n",
       "124618 2020-04-01        CA                6    ALAMEDA            6001.0   \n",
       "127671 2020-04-01        CA                6    ALAMEDA            6001.0   \n",
       "174636 2021-01-01        OH               39      LOGAN           39091.0   \n",
       "175674 2021-01-01        PA               42        NaN               NaN   \n",
       "188389 2021-01-01        OH               39      LOGAN           39091.0   \n",
       "202773 2020-04-01        PA               42   COLUMBIA           42037.0   \n",
       "\n",
       "        age_group     sex   race            ethnicity  \\\n",
       "109526  65+ years    Male  White  Non-Hispanic/Latino   \n",
       "124618  65+ years  Female  White  Non-Hispanic/Latino   \n",
       "127671  65+ years  Female  White  Non-Hispanic/Latino   \n",
       "174636  65+ years    Male  White  Non-Hispanic/Latino   \n",
       "175674  65+ years    Male  White                  NaN   \n",
       "188389  65+ years    Male  White  Non-Hispanic/Latino   \n",
       "202773  65+ years  Female    NaN                  NaN   \n",
       "\n",
       "        case_positive_specimen_interval  case_onset_interval  \\\n",
       "109526                              0.0                  NaN   \n",
       "124618                              NaN                  0.0   \n",
       "127671                              NaN                  NaN   \n",
       "174636                              NaN                  0.0   \n",
       "175674                              0.0                  0.0   \n",
       "188389                              NaN                  0.0   \n",
       "202773                              0.0                  0.0   \n",
       "\n",
       "                    process exposure_yn             current_status  \\\n",
       "109526                  NaN         Yes  Laboratory-confirmed case   \n",
       "124618                  NaN         NaN  Laboratory-confirmed case   \n",
       "127671                  NaN         NaN  Laboratory-confirmed case   \n",
       "174636  Clinical evaluation         Yes              Probable Case   \n",
       "175674                  NaN         Yes  Laboratory-confirmed case   \n",
       "188389  Clinical evaluation         Yes              Probable Case   \n",
       "202773                  NaN         Yes  Laboratory-confirmed case   \n",
       "\n",
       "       symptom_status hosp_yn icu_yn death_yn underlying_conditions_yn  \n",
       "109526    Symptomatic     Yes    Yes      Yes                      Yes  \n",
       "124618    Symptomatic     Yes    Yes      Yes                      NaN  \n",
       "127671    Symptomatic     Yes    Yes      Yes                      NaN  \n",
       "174636    Symptomatic     Yes    Yes      Yes                      Yes  \n",
       "175674    Symptomatic     Yes    Yes      Yes                      Yes  \n",
       "188389    Symptomatic     Yes    Yes      Yes                      Yes  \n",
       "202773    Symptomatic     Yes    Yes      Yes                      Yes  "
      ]
     },
     "execution_count": 40,
     "metadata": {},
     "output_type": "execute_result"
    }
   ],
   "source": [
    "chunk[chunk['icu_yn'].isin(['Yes']) & chunk['death_yn'].isin(['Yes'])]"
   ]
  },
  {
   "cell_type": "markdown",
   "metadata": {},
   "source": [
    "## Looks like there are 52 reporting periods and each hospital was supposed to submit one report per week (which 4669 of 5051 did). "
   ]
  },
  {
   "cell_type": "code",
   "execution_count": 21,
   "metadata": {
    "scrolled": true
   },
   "outputs": [
    {
     "name": "stdout",
     "output_type": "stream",
     "text": [
      "52\n"
     ]
    },
    {
     "data": {
      "text/plain": [
       "2020/07/31    4886\n",
       "2020/08/07    4895\n",
       "2020/08/14    4849\n",
       "2020/08/21    4860\n",
       "2020/08/28    4902\n",
       "2020/09/04    4922\n",
       "2020/09/11    4923\n",
       "2020/09/18    4925\n",
       "2020/09/25    4946\n",
       "2020/10/02    4964\n",
       "2020/10/09    4974\n",
       "2020/10/16    4982\n",
       "2020/10/23    4991\n",
       "2020/10/30    4997\n",
       "2020/11/06    5003\n",
       "2020/11/13    5007\n",
       "2020/11/20    5009\n",
       "2020/11/27    5011\n",
       "2020/12/04    5016\n",
       "2020/12/11    5020\n",
       "2020/12/18    5018\n",
       "2020/12/25    5021\n",
       "2021/01/01    5020\n",
       "2021/01/08    5013\n",
       "2021/01/15    5017\n",
       "2021/01/22    5018\n",
       "2021/01/29    5017\n",
       "2021/02/05    5017\n",
       "2021/02/12    5018\n",
       "2021/02/19    5017\n",
       "2021/02/26    5019\n",
       "2021/03/05    5018\n",
       "2021/03/12    5017\n",
       "2021/03/19    5017\n",
       "2021/03/26    5016\n",
       "2021/04/02    5015\n",
       "2021/04/09    5016\n",
       "2021/04/16    5014\n",
       "2021/04/23    5016\n",
       "2021/04/30    5016\n",
       "2021/05/07    5004\n",
       "2021/05/14    5009\n",
       "2021/05/21    5009\n",
       "2021/05/28    5010\n",
       "2021/06/04    5009\n",
       "2021/06/11    5008\n",
       "2021/06/18    5006\n",
       "2021/06/25    5003\n",
       "2021/07/02    5002\n",
       "2021/07/09    5006\n",
       "2021/07/16    5005\n",
       "2021/07/23    5006\n",
       "Name: collection_week, dtype: int64"
      ]
     },
     "execution_count": 21,
     "metadata": {},
     "output_type": "execute_result"
    }
   ],
   "source": [
    "print(hospital_raw['collection_week'].nunique())\n",
    "hospital_raw['collection_week'].value_counts().sort_index()"
   ]
  },
  {
   "cell_type": "code",
   "execution_count": 310,
   "metadata": {
    "scrolled": true
   },
   "outputs": [
    {
     "data": {
      "text/plain": [
       "1         9\n",
       "2         3\n",
       "3         3\n",
       "4         2\n",
       "5         1\n",
       "7         2\n",
       "8         6\n",
       "9         3\n",
       "10        1\n",
       "11        2\n",
       "12        1\n",
       "13        2\n",
       "14        4\n",
       "15        2\n",
       "16        1\n",
       "22        2\n",
       "23        2\n",
       "26        3\n",
       "28        5\n",
       "30        1\n",
       "31        1\n",
       "32        2\n",
       "33        4\n",
       "34        2\n",
       "35        6\n",
       "37        5\n",
       "39        5\n",
       "40       14\n",
       "41       12\n",
       "42        9\n",
       "43       10\n",
       "44       21\n",
       "45       17\n",
       "46       11\n",
       "47       21\n",
       "48       30\n",
       "49       15\n",
       "50       45\n",
       "51       85\n",
       "52     4669\n",
       "90        1\n",
       "102       1\n",
       "104       7\n",
       "156       3\n",
       "Name: hospital_pk, dtype: int64"
      ]
     },
     "execution_count": 310,
     "metadata": {},
     "output_type": "execute_result"
    }
   ],
   "source": [
    "# list of report counts filed by individual hospitals\n",
    "hospital_raw.groupby(['hospital_name', 'state'])['hospital_pk'].count().value_counts().sort_index()"
   ]
  },
  {
   "cell_type": "code",
   "execution_count": 270,
   "metadata": {
    "scrolled": true
   },
   "outputs": [
    {
     "data": {
      "text/plain": [
       "1    5051\n",
       "0      16\n",
       "Name: fips_code, dtype: int64"
      ]
     },
     "execution_count": 270,
     "metadata": {},
     "output_type": "execute_result"
    }
   ],
   "source": [
    "hospital_raw.groupby('hospital_pk').nunique()['fips_code'].value_counts()"
   ]
  },
  {
   "cell_type": "code",
   "execution_count": 271,
   "metadata": {},
   "outputs": [
    {
     "data": {
      "text/plain": [
       "1     4814\n",
       "2       56\n",
       "0       16\n",
       "3       14\n",
       "4        9\n",
       "5        6\n",
       "13       1\n",
       "Name: fips_code, dtype: int64"
      ]
     },
     "execution_count": 271,
     "metadata": {},
     "output_type": "execute_result"
    }
   ],
   "source": [
    "hospital_raw.groupby('hospital_name').nunique()['fips_code'].value_counts()"
   ]
  },
  {
   "cell_type": "code",
   "execution_count": 164,
   "metadata": {},
   "outputs": [
    {
     "data": {
      "text/plain": [
       "str"
      ]
     },
     "execution_count": 164,
     "metadata": {},
     "output_type": "execute_result"
    }
   ],
   "source": [
    "type(hospital_raw['geocoded_hospital_address'][0])"
   ]
  },
  {
   "cell_type": "code",
   "execution_count": 227,
   "metadata": {},
   "outputs": [
    {
     "data": {
      "text/plain": [
       "'POINT (-85.823353 33.657123)'"
      ]
     },
     "execution_count": 227,
     "metadata": {},
     "output_type": "execute_result"
    }
   ],
   "source": [
    "hospital['geocoded_hospital_address'][15]"
   ]
  },
  {
   "cell_type": "code",
   "execution_count": 228,
   "metadata": {},
   "outputs": [
    {
     "data": {
      "text/plain": [
       "hospital_pk                                                       0\n",
       "collection_week                                                   0\n",
       "state                                                             0\n",
       "zip                                                               0\n",
       "geocoded_hospital_address                                     21158\n",
       "previous_day_admission_adult_covid_confirmed_7_day_sum         1442\n",
       "previous_day_admission_pediatric_covid_confirmed_7_day_sum     6333\n",
       "previous_day_admission_adult_covid_suspected_7_day_sum         1516\n",
       "previous_day_admission_pediatric_covid_suspected_7_day_sum     6133\n",
       "dtype: int64"
      ]
     },
     "execution_count": 228,
     "metadata": {},
     "output_type": "execute_result"
    }
   ],
   "source": [
    "hospital.isna().sum()"
   ]
  }
 ],
 "metadata": {
  "kernelspec": {
   "display_name": "Python 3",
   "language": "python",
   "name": "python3"
  },
  "language_info": {
   "codemirror_mode": {
    "name": "ipython",
    "version": 3
   },
   "file_extension": ".py",
   "mimetype": "text/x-python",
   "name": "python",
   "nbconvert_exporter": "python",
   "pygments_lexer": "ipython3",
   "version": "3.8.5"
  }
 },
 "nbformat": 4,
 "nbformat_minor": 4
}
